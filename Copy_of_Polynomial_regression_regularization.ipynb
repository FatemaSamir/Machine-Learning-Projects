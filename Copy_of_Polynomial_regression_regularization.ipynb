{
  "nbformat": 4,
  "nbformat_minor": 0,
  "metadata": {
    "kernelspec": {
      "display_name": "Python 3",
      "language": "python",
      "name": "python3"
    },
    "language_info": {
      "codemirror_mode": {
        "name": "ipython",
        "version": 3
      },
      "file_extension": ".py",
      "mimetype": "text/x-python",
      "name": "python",
      "nbconvert_exporter": "python",
      "pygments_lexer": "ipython3",
      "version": "3.7.6"
    },
    "colab": {
      "name": " Copy of Polynomial_regression_regularization.ipynb",
      "provenance": [],
      "collapsed_sections": []
    }
  },
  "cells": [
    {
      "cell_type": "markdown",
      "metadata": {
        "id": "eyjewtSBMA95"
      },
      "source": [
        "# Testing and regularization"
      ]
    },
    {
      "cell_type": "code",
      "metadata": {
        "id": "y_RXtj1eMCb3",
        "colab": {
          "base_uri": "https://localhost:8080/"
        },
        "outputId": "f97c268f-fd5b-423a-8b46-66f774193884"
      },
      "source": [
        "!git clone https://github.com/s7s/machine_learning_1.git\n",
        "%cd  machine_learning_1/polynomial_regression"
      ],
      "execution_count": null,
      "outputs": [
        {
          "output_type": "stream",
          "name": "stdout",
          "text": [
            "Cloning into 'machine_learning_1'...\n",
            "remote: Enumerating objects: 186, done.\u001b[K\n",
            "remote: Counting objects: 100% (186/186), done.\u001b[K\n",
            "remote: Compressing objects: 100% (134/134), done.\u001b[K\n",
            "remote: Total 186 (delta 85), reused 150 (delta 49), pack-reused 0\u001b[K\n",
            "Receiving objects: 100% (186/186), 34.12 MiB | 21.52 MiB/s, done.\n",
            "Resolving deltas: 100% (85/85), done.\n",
            "/content/machine_learning_1/polynomial_regression\n"
          ]
        }
      ]
    },
    {
      "cell_type": "code",
      "metadata": {
        "id": "YpX56PtFMA-A"
      },
      "source": [
        "import pandas as pd\n",
        "import numpy as np\n",
        "import random\n",
        "import matplotlib.pyplot as plt\n",
        "random.seed(0)"
      ],
      "execution_count": null,
      "outputs": []
    },
    {
      "cell_type": "markdown",
      "metadata": {
        "id": "WBD0ZY2wMA-B"
      },
      "source": [
        "## Defining our dataset"
      ]
    },
    {
      "cell_type": "code",
      "metadata": {
        "id": "4sDgbZNRMA-C",
        "colab": {
          "base_uri": "https://localhost:8080/",
          "height": 269
        },
        "outputId": "be74f408-d8d9-4bd5-857c-eb5a30e25968"
      },
      "source": [
        "# Our original polynomial is -x^2+x+15\n",
        "coefs = [15,1,-1]\n",
        "\n",
        "def polynomial(coefs, x):\n",
        "    n = len(coefs)\n",
        "    return sum([coefs[i]*x**i for i in range(n)])\n",
        "\n",
        "def draw_polynomial(coefs):\n",
        "    n = len(coefs)\n",
        "    x = np.linspace(-5, 5, 1000)\n",
        "    plt.ylim(-20,20)\n",
        "    plt.plot(x, sum([coefs[i]*x**i for i in range(n)]), linestyle='-', color='black')\n",
        "\n",
        "draw_polynomial(coefs)"
      ],
      "execution_count": null,
      "outputs": [
        {
          "output_type": "display_data",
          "data": {
            "text/plain": [
              "<Figure size 432x288 with 1 Axes>"
            ],
            "image/png": "[encoded data removed]"
          },
          "metadata": {
            "needs_background": "light"
          }
        }
      ]
    },
    {
      "cell_type": "code",
      "metadata": {
        "id": "WvGqHRFCMA-E"
      },
      "source": [
        "X = []\n",
        "Y = []\n",
        "for i in range(40):\n",
        "    x = random.uniform(-5,5)\n",
        "    y = polynomial(coefs, x) + random.gauss(0,2)\n",
        "    X.append(x)\n",
        "    Y.append(y)\n",
        "X=np.array(X)\n",
        "Y=np.array(Y)"
      ],
      "execution_count": null,
      "outputs": []
    },
    {
      "cell_type": "code",
      "metadata": {
        "id": "ETQxgGiFMA-E",
        "colab": {
          "base_uri": "https://localhost:8080/",
          "height": 282
        },
        "outputId": "1c7702be-605a-41bb-9485-599cf580b05e"
      },
      "source": [
        "plt.scatter(X, Y)\n",
        "#draw_polynomial(coefs)"
      ],
      "execution_count": null,
      "outputs": [
        {
          "output_type": "execute_result",
          "data": {
            "text/plain": [
              "<matplotlib.collections.PathCollection at 0x7f18a15ab190>"
            ]
          },
          "metadata": {},
          "execution_count": 27
        },
        {
          "output_type": "display_data",
          "data": {
            "text/plain": [
              "<Figure size 432x288 with 1 Axes>"
            ],
            "image/png": "[encoded data removed]"
          },
          "metadata": {
            "needs_background": "light"
          }
        }
      ]
    },
    {
      "cell_type": "markdown",
      "metadata": {
        "id": "wLUfmV9iMA-F"
      },
      "source": [
        "## Training a polynomial regression model"
      ]
    },
    {
      "cell_type": "code",
      "metadata": {
        "id": "xsNmJ6hoGPjb",
        "colab": {
          "base_uri": "https://localhost:8080/"
        },
        "outputId": "aba35e07-32fe-443c-d9b9-8bb99ca751a2"
      },
      "source": [
        "for datasample in zip(X,Y):\n",
        "    print(datasample)"
      ],
      "execution_count": null,
      "outputs": [
        {
          "output_type": "stream",
          "name": "stdout",
          "text": [
            "(3.4442185152504816, 6.685961311021467)\n",
            "(-2.4108324970703663, 4.690236225597948)\n",
            "(0.11274721368608542, 12.205789026637378)\n",
            "(-1.9668727392107255, 11.133217991032268)\n",
            "(-0.23403045847644144, 10.927272159051856)\n",
            "(0.046868558173902564, 12.8584762866286)\n",
            "(-2.1816215560029617, 8.16012255928749)\n",
            "(-2.4949365863755943, 3.5061587527226514)\n",
            "(4.097462559682402, 5.933186396721837)\n",
            "(4.021659504395828, 2.454299054753137)\n",
            "(-1.8985243068066735, 8.956020414039855)\n",
            "(1.8398393191544127, 9.208004401915796)\n",
            "(-0.2785728454728664, 16.36505651355184)\n",
            "(1.1088697344380165, 16.14144978027318)\n",
            "(4.130110532378982, 4.299534274468492)\n",
            "(3.6530992777164, 4.83366913200435)\n",
            "(-2.395076896080406, 7.723543125251446)\n",
            "(-4.8595829983598104, -15.848718674227753)\n",
            "(2.1970468640395415, 9.366124268570305)\n",
            "(1.6815320123185087, 16.070558182542374)\n",
            "(-4.988571806855717, -18.893035332565795)\n",
            "(-2.5608912311286804, 6.043189895391749)\n",
            "(-1.7479563725260991, 11.091071520573042)\n",
            "(0.6751074062067186, 14.272553413210698)\n",
            "(-2.6138407138477984, 9.085321805751548)\n",
            "(-0.5203042856442961, 13.47860807272069)\n",
            "(-4.195541814474646, -7.812998091307244)\n",
            "(4.3283382422690675, 2.748647759010411)\n",
            "(-3.909421540688963, -7.163796336350065)\n",
            "(0.4744091132842376, 14.257854146830486)\n",
            "(3.14466863291336, 3.2664703661537313)\n",
            "(1.0318562796138302, 13.67662422703284)\n",
            "(0.8761706417543635, 12.57404063707232)\n",
            "(-1.1509885402733957, 13.436894195835206)\n",
            "(0.7565101416488851, 14.859288476607356)\n",
            "(-3.132704717444449, 3.3081236367340967)\n",
            "(1.1277317986860673, 13.596584816754236)\n",
            "(-4.1017563880440635, -7.821475002235993)\n",
            "(2.576039219664368, 14.181083579723474)\n",
            "(3.424602231401824, 3.5269925176080537)\n"
          ]
        }
      ]
    },
    {
      "cell_type": "code",
      "source": [
        "X=X.reshape(-1,1)\n",
        "# Y=Y.reshape(-1,1)\n",
        "print(X.shape)"
      ],
      "metadata": {
        "colab": {
          "base_uri": "https://localhost:8080/"
        },
        "id": "xThGJMge6rLw",
        "outputId": "089d36e4-b38f-43e1-ba27-c41ddd6dc378"
      },
      "execution_count": null,
      "outputs": [
        {
          "output_type": "stream",
          "name": "stdout",
          "text": [
            "(40, 1)\n"
          ]
        }
      ]
    },
    {
      "cell_type": "markdown",
      "metadata": {
        "id": "Pze2ZphQMA-G"
      },
      "source": [
        "### Adding columns to our dataset corresponding to $x^2, x^3, \\ldots, x^{200}$"
      ]
    },
    {
      "cell_type": "code",
      "metadata": {
        "id": "c2XZgASOGfVv"
      },
      "source": [
        "from sklearn.preprocessing import PolynomialFeatures\n",
        "def addPoly(X,polyDegree):\n",
        "    ## TODO ##\n",
        "    #use sklearn (PolynomialFeatures method)\n",
        "    poly = PolynomialFeatures(polyDegree,include_bias=False)\n",
        "    # print(poly)\n",
        "    X = poly.fit_transform(X)\n",
        "    return X\n",
        "X_poly=addPoly(X,200)"
      ],
      "execution_count": null,
      "outputs": []
    },
    {
      "cell_type": "code",
      "source": [
        "print(X_poly.shape)\n",
        "print(X_poly)"
      ],
      "metadata": {
        "colab": {
          "base_uri": "https://localhost:8080/"
        },
        "id": "WZvTHnl27pRU",
        "outputId": "2973de36-78f1-4fa2-89c3-388c92283e26"
      },
      "execution_count": null,
      "outputs": [
        {
          "output_type": "stream",
          "name": "stdout",
          "text": [
            "(40, 200)\n",
            "[[ 3.44421852e+000  1.18626412e+001  4.08575284e+001 ...  2.20779131e+106\n",
            "   7.60411570e+106  2.61902361e+107]\n",
            " [-2.41083250e+000  5.81211333e+000 -1.40120317e+001 ...  4.66738168e+075\n",
            "  -1.12522754e+076  2.71273512e+076]\n",
            " [ 1.12747214e-001  1.27119342e-002  1.43323516e-003 ...  2.07468402e-188\n",
            "   2.33914843e-189  2.63732468e-190]\n",
            " ...\n",
            " [-4.10175639e+000  1.68244055e+001 -6.90096126e+001 ...  2.33363484e+121\n",
            "  -9.57200162e+121  3.92620188e+122]\n",
            " [ 2.57603922e+000  6.63597806e+000  1.70945397e+001 ...  2.33662605e+081\n",
            "   6.01924036e+081  1.55057992e+082]\n",
            " [ 3.42460223e+000  1.17279004e+001  4.01633940e+001 ...  7.12535971e+105\n",
            "   2.44015227e+106  8.35655093e+106]]\n"
          ]
        }
      ]
    },
    {
      "cell_type": "code",
      "metadata": {
        "id": "kKXdyM7fGzLC",
        "colab": {
          "base_uri": "https://localhost:8080/"
        },
        "outputId": "5f23aa60-5190-4229-fb71-bd115db0d35d"
      },
      "source": [
        "print(X_poly.shape)\n",
        "print(X_poly[0,:])"
      ],
      "execution_count": null,
      "outputs": [
        {
          "output_type": "stream",
          "name": "stdout",
          "text": [
            "(40, 200)\n",
            "[3.44421852e+000 1.18626412e+001 4.08575284e+001 1.40722256e+002\n",
            " 4.84678199e+002 1.66933763e+003 5.74956356e+003 1.98027533e+004\n",
            " 6.82050095e+004 2.34912956e+005 8.09091554e+005 2.78668811e+006\n",
            " 9.59796279e+006 3.30574811e+007 1.13857189e+008 3.92149037e+008\n",
            " 1.35064697e+009 4.65192332e+009 1.60222404e+010 5.51840971e+010\n",
            " 1.90066089e+011 6.54629143e+011 2.25468581e+012 7.76563063e+012\n",
            " 2.67465288e+013 9.21208897e+013 3.17284474e+014 1.09279706e+015\n",
            " 3.76383187e+015 1.29634594e+016 4.46489869e+016 1.53780867e+017\n",
            " 5.29654911e+017 1.82424725e+018 6.28310616e+018 2.16403906e+019\n",
            " 7.45342338e+019 2.56712188e+020 8.84172871e+020 3.04528457e+021\n",
            " 1.04886255e+022 3.61251182e+022 1.24422801e+023 4.28539315e+023\n",
            " 1.47598304e+024 5.08360812e+024 1.75090572e+025 6.03050191e+025\n",
            " 2.07703663e+026 7.15376803e+026 2.46391403e+027 8.48625832e+027\n",
            " 2.92285280e+028 1.00669437e+029 3.46727540e+029 1.19420541e+030\n",
            " 4.11310440e+030 1.41664303e+031 4.87922816e+031 1.68051280e+032\n",
            " 5.78805329e+032 1.99353203e+033 6.86615993e+033 2.36485552e+034\n",
            " 8.14507916e+034 2.80534324e+035 9.66221514e+035 3.32787803e+036\n",
            " 1.14619391e+037 3.94774230e+037 1.35968871e+038 4.68306503e+038\n",
            " 1.61294993e+039 5.55535201e+039 1.91338463e+040 6.59011475e+040\n",
            " 2.26977953e+041 7.81761667e+041 2.69255801e+042 9.27375814e+042\n",
            " 3.19408495e+043 1.10011265e+044 3.78902837e+044 1.30502417e+045\n",
            " 4.49478839e+045 1.54810334e+046 5.33200619e+046 1.83645944e+047\n",
            " 6.32516762e+047 2.17852594e+048 7.50331939e+048 2.58430716e+049\n",
            " 8.90091855e+049 3.06567085e+050 1.05588403e+051 3.63669533e+051\n",
            " 1.25255734e+052 4.31408117e+052 1.48586383e+053 5.11763970e+053\n",
            " 1.76262694e+054 6.07087234e+054 2.09094109e+055 7.20165803e+055\n",
            " 2.48040839e+056 8.54306851e+056 2.94241947e+057 1.01343356e+058\n",
            " 3.49048664e+058 1.20219987e+059 4.14063906e+059 1.42612657e+060\n",
            " 4.91189154e+060 1.69176278e+061 5.82680069e+061 2.00687748e+062\n",
            " 6.91212458e+062 2.38068674e+063 8.19960536e+063 2.82412326e+064\n",
            " 9.72689763e+064 3.35015609e+065 1.15386696e+066 3.97416996e+066\n",
            " 1.36879098e+067 4.71441522e+067 1.62374762e+068 5.59254162e+068\n",
            " 1.92619354e+069 6.63423145e+069 2.28497428e+070 7.86995072e+070\n",
            " 2.71058300e+071 9.33584015e+071 3.21546735e+072 1.10747722e+073\n",
            " 3.81439354e+073 1.31376049e+074 4.52487819e+074 1.55846692e+075\n",
            " 5.36770063e+075 1.84875339e+076 6.36751066e+076 2.19310981e+077\n",
            " 7.55354941e+077 2.60160747e+078 8.96050463e+078 3.08619360e+079\n",
            " 1.06295251e+080 3.66104073e+080 1.26094243e+081 4.34296125e+081\n",
            " 1.49581075e+082 5.15189909e+082 1.77442662e+083 6.11151303e+083\n",
            " 2.10493864e+084 7.24986862e+084 2.49701317e+085 8.60025901e+085\n",
            " 2.96211713e+086 1.02021787e+087 3.51385326e+087 1.21024785e+088\n",
            " 4.16835804e+088 1.43567360e+089 4.94477358e+089 1.70308807e+090\n",
            " 5.86580747e+090 2.02031227e+091 6.95839692e+091 2.39662395e+092\n",
            " 8.25449659e+092 2.84302900e+093 9.79201312e+093 3.37258329e+094\n",
            " 1.16159138e+095 4.00077454e+095 1.37795417e+096 4.74597528e+096\n",
            " 1.63461759e+097 5.62998018e+097 1.93908820e+098 6.67864348e+098\n",
            " 2.30027075e+099 7.92263511e+099 2.72872865e+100 9.39833775e+100\n",
            " 3.23699289e+101 1.11489108e+102 3.83992852e+102 1.32255529e+103\n",
            " 4.55516942e+103 1.56889988e+104 5.40363403e+104 1.86112964e+105\n",
            " 6.41013716e+105 2.20779131e+106 7.60411570e+106 2.61902361e+107]\n"
          ]
        }
      ]
    },
    {
      "cell_type": "markdown",
      "metadata": {
        "id": "S8uYLISVMA-H"
      },
      "source": [
        "## Splitting data into training and testing"
      ]
    },
    {
      "cell_type": "code",
      "metadata": {
        "id": "fVnfiOyqMNLg"
      },
      "source": [
        "from sklearn.model_selection import train_test_split\n",
        "## TODO ##\n",
        "# use sklearn (train_test_split) to split data to 80% training 20% testing\n",
        "X_train, X_test, y_train, y_test = train_test_split(X_poly,Y,test_size=.20)"
      ],
      "execution_count": null,
      "outputs": []
    },
    {
      "cell_type": "code",
      "source": [
        "y_train.shape"
      ],
      "metadata": {
        "colab": {
          "base_uri": "https://localhost:8080/"
        },
        "id": "5HiSgSx188z-",
        "outputId": "4c72dd02-44cc-4507-8be0-87f33b16af89"
      },
      "execution_count": null,
      "outputs": [
        {
          "output_type": "execute_result",
          "data": {
            "text/plain": [
              "(32,)"
            ]
          },
          "metadata": {},
          "execution_count": 47
        }
      ]
    },
    {
      "cell_type": "code",
      "metadata": {
        "id": "WmHYknzXMA-I"
      },
      "source": [
        "from sklearn.metrics import mean_squared_error\n",
        "def display_results(model):\n",
        "    coefs = [model.intercept_]\n",
        "    coefs += list(model.coef_)\n",
        "    ytrain_predict=model.predict(X_train)\n",
        "    ytest_predict=model.predict(X_test)\n",
        "    train_error=np.sqrt(mean_squared_error(y_train,ytrain_predict))\n",
        "    test_error=np.sqrt(mean_squared_error(y_test,ytest_predict))\n",
        "    print(\"Training error (rmse):\", train_error)\n",
        "    print(\"Testing error (rmse):\", test_error)\n",
        "    plt.scatter(X_train[:,0], y_train, marker='o')\n",
        "    plt.scatter(X_test[:,0], y_test, marker='^')\n",
        "    draw_polynomial(coefs)\n",
        "    plt.show()\n",
        "    print(\"Polynomial coefficients\")\n",
        "    print(coefs)"
      ],
      "execution_count": null,
      "outputs": []
    },
    {
      "cell_type": "markdown",
      "metadata": {
        "id": "G9x4Q5S3MA-I"
      },
      "source": [
        "## Training a polynomial regression model with no regularization"
      ]
    },
    {
      "cell_type": "code",
      "metadata": {
        "id": "QKm7sV7JMA-J",
        "colab": {
          "base_uri": "https://localhost:8080/"
        },
        "outputId": "b74a01a9-fb9d-40e2-fbfa-7f81c2ff022a"
      },
      "source": [
        "from matplotlib.colors import Normalize\n",
        "from sklearn.linear_model import LinearRegression\n",
        "## TODO ##\n",
        "# use sklearn linear regression to fit the data \n",
        "# normalization trick ;)\n",
        "# reg = LinearRegression(normalize=True).fit(X_train, y_train)\n",
        "\n",
        "# print(reg.score(X_train, y_train))\n",
        "# price_pred = reg.predict(X_test)\n",
        "# print(price_pred)\n",
        "model_no_reg = LinearRegression(normalize=True).fit(X_train, y_train)"
      ],
      "execution_count": null,
      "outputs": [
        {
          "output_type": "stream",
          "name": "stderr",
          "text": [
            "/usr/local/lib/python3.7/dist-packages/sklearn/linear_model/_base.py:145: FutureWarning: 'normalize' was deprecated in version 1.0 and will be removed in 1.2.\n",
            "If you wish to scale the data, use Pipeline with a StandardScaler in a preprocessing stage. To reproduce the previous behavior:\n",
            "\n",
            "from sklearn.pipeline import make_pipeline\n",
            "\n",
            "model = make_pipeline(StandardScaler(with_mean=False), LinearRegression())\n",
            "\n",
            "If you wish to pass a sample_weight parameter, you need to pass it as a fit parameter to each step of the pipeline as follows:\n",
            "\n",
            "kwargs = {s[0] + '__sample_weight': sample_weight for s in model.steps}\n",
            "model.fit(X, y, **kwargs)\n",
            "\n",
            "\n",
            "  FutureWarning,\n"
          ]
        }
      ]
    },
    {
      "cell_type": "code",
      "metadata": {
        "id": "uje8MamakgwD",
        "colab": {
          "base_uri": "https://localhost:8080/",
          "height": 358
        },
        "outputId": "720d6a69-c0f7-4768-b923-ed8885f389ad"
      },
      "source": [
        "display_results(model_no_reg)"
      ],
      "execution_count": null,
      "outputs": [
        {
          "output_type": "stream",
          "name": "stdout",
          "text": [
            "Training error (rmse): 0.010892204583052394\n",
            "Testing error (rmse): 4809808.143063339\n"
          ]
        },
        {
          "output_type": "display_data",
          "data": {
            "text/plain": [
              "<Figure size 432x288 with 1 Axes>"
            ],
            "image/png": "[encoded data removed]"
          },
          "metadata": {
            "needs_background": "light"
          }
        },
        {
          "output_type": "stream",
          "name": "stdout",
          "text": [
            "Polynomial coefficients\n",
            "[8.35044050405561, -116.46465890775792, -946.5008630210864, -295.0298532879299, 9607.36574430267, 163.19016649120664, -31915.3190485738, 11519.410986686371, 38176.877475403744, -16912.56842182757, -24111.25838434205, 10408.79146888691, 9207.62061772411, -3486.3372993670973, -2215.678309364781, 689.8029159147164, 331.86102706908576, -81.39785889506462, -28.756506517221165, 5.303212921556568, 1.105489581694808, -0.12571473735813227, 0.012675190148813659, -0.0042349690217227355, -0.0016129728315082133, 0.00016415802089778914, -3.7276728618696776e-05, 7.620532901476721e-06, 1.3594618969739987e-06, -3.0566378339491075e-08, 9.735143582653901e-08, -1.1090467128023996e-08, 2.0944310875097904e-09, -4.1940383809598105e-10, -3.715199089032967e-11, -4.798353960949763e-12, -4.756058557766628e-12, 3.2462012437263405e-13, -2.0890159491219008e-13, 2.4820628929892097e-14, -5.630432322489315e-15, 1.0368938126403509e-15, -6.03365854108822e-17, 3.077264441092539e-17, 3.993415921875218e-18, 5.32286499313445e-19, 3.431622934225109e-19, -7.780262062593354e-21, 1.6525213871876454e-20, -1.350298573273648e-21, 6.642633045312692e-22, -8.168914863250942e-23, 2.2571511813491113e-23, -3.9244933014273054e-24, 6.618675505299391e-25, -1.6309171748769693e-25, 1.607018995858047e-26, -6.233493595980592e-27, 2.185653255710852e-28, -2.223166190477889e-28, -5.743816689058747e-30, -7.425794644435593e-30, -6.980556094426776e-31, -2.2926209573788697e-31, -4.1651472548514784e-32, -6.458587510142665e-33, -2.0861786874734605e-33, -1.6235756853498283e-34, -9.346952407556033e-35, -2.795335941565674e-36, -3.911061317125355e-36, 6.350263263360723e-39, -1.6024508610176322e-37, 4.639543406896598e-39, -6.339950148170052e-39, 3.2366646784018063e-40, -2.461792572744748e-40, 1.672702428689714e-41, -9.378991926958836e-42, 8.093519910102921e-43, -3.5583361089956036e-43, 3.501829890619009e-44, -1.3331974039495858e-44, 1.4718755246148317e-45, -4.979644961141757e-46, 5.997928220454932e-47, -1.855224052055095e-47, 2.3943512128890388e-48, -6.960670745535467e-49, 9.52864732947645e-50, -2.5570217473006767e-50, 3.682727512831494e-51, -9.271636001822392e-52, 1.4248433229583355e-52, -3.479429838582205e-53, 5.447735299669244e-54, -1.239726644766071e-54, 2.055636103651178e-55, -4.549765194647737e-56, 7.759159339069319e-57, -1.6992925419993203e-57, 2.7882071542913088e-58, -5.915540751820729e-59, 1.0374724245965226e-59, -2.1741450303191502e-60, 3.7548040494630816e-61, -7.875909477005276e-62, 1.3535506995901328e-62, -2.8441249688553336e-63, 5.030168889428658e-64, -9.836068608455832e-65, 1.7537171901685905e-65, -3.6177409976166265e-66, 6.3253079807888e-67, -1.1915509728180559e-67, 2.203848810373776e-68, -4.23655763086537e-69, 7.232577184860643e-70, -1.38717727356776e-70, 2.432088283652321e-71, -4.398952942652484e-72, 7.414426549449807e-73, -1.4497750787735215e-73, 2.0197883304430956e-74, -4.024690273606062e-75, 5.848206480190119e-76, -8.988696694689842e-77, 1.3350624514503387e-77, -1.7021169537074147e-78, 2.7063736910145866e-79, 4.0635010637873206e-81, -1.4312317212524524e-80, 3.9631973269580583e-81, -1.1607564763305647e-81, 2.13145758549533e-82, -6.82294310713724e-83, 1.6098986189743263e-83, -3.8792707803870576e-84, 6.87994856405244e-85, -1.8431630385698083e-85, 3.6078193502614584e-86, -8.454418976326134e-87, 1.7809424331640978e-87, -3.8914489763893685e-88, 7.584569352873924e-89, -1.8345614153362294e-89, 3.5401866476411393e-90, -7.859657807127226e-91, 1.6797545814990896e-91, -3.6815833744247795e-92, 7.362837635678432e-93, -1.5186475856464803e-93, 3.188339003555291e-94, -6.367151295350184e-95, 1.2379116054922454e-95, -2.691696000348074e-96, 5.60504271619854e-97, -1.1316646660986623e-97, 2.4405617347117585e-98, -4.7285028164171205e-99, 1.0263494082782842e-99, -2.0088627065912044e-100, 4.3886023663101803e-101, -8.382050503420741e-102, 1.702377331563291e-102, -3.6060257841919965e-103, 7.308437134159175e-104, -1.4558327976766284e-104, 2.949231334959351e-105, -6.085850849760135e-106, 1.2539713535451382e-106, -2.4693837864221317e-107, 5.2826052264422694e-108, -1.0414491201316787e-108, 2.087481122333959e-109, -4.3036751816754434e-110, 8.896503662535786e-111, -1.7565926515085177e-111, 3.5597280403417547e-112, -7.381662018887764e-113, 1.514635316026487e-113, -2.9509858696425695e-114, 6.192307360359868e-115, -1.1929995489890024e-115, 2.4880761702945076e-116, -5.0165314494882264e-117, 1.0129144562886684e-117, -2.0404503542027527e-118, 4.15534643647033e-119, -8.354578498156227e-120, 1.6799956433920377e-120, -3.3138058129914404e-121, 6.995426302588671e-122, -1.2889692994240471e-122, 2.6253801412018976e-123, -5.5124253937198156e-124, 1.1078134251553223e-124, -2.2703004699099426e-125, 4.512119689181668e-126, -9.180228277796858e-127, 1.8121611624402007e-127]\n"
          ]
        }
      ]
    },
    {
      "cell_type": "markdown",
      "metadata": {
        "id": "TLTU-3ojMA-J"
      },
      "source": [
        "## Training a polynomial regression model with L1 regularization"
      ]
    },
    {
      "cell_type": "code",
      "metadata": {
        "id": "sBfyPNvMMA-J",
        "colab": {
          "base_uri": "https://localhost:8080/"
        },
        "outputId": "25fa09e1-8369-47a3-f31c-35e42c4b959a"
      },
      "source": [
        "from sklearn import linear_model\n",
        "## TODO ##\n",
        "# use sklearn Lasso (linear regression with L1 Norm) to fit the data \n",
        "# normalization trick ;)\n",
        "# c = linear_model.Lasso(alpha=0.1)\n",
        "model_L1_reg = linear_model.Lasso(alpha=0.1)\n",
        "model_L1_reg.fit(X_train, y_train)"
      ],
      "execution_count": null,
      "outputs": [
        {
          "output_type": "stream",
          "name": "stderr",
          "text": [
            "/usr/local/lib/python3.7/dist-packages/sklearn/linear_model/_coordinate_descent.py:648: ConvergenceWarning: Objective did not converge. You might want to increase the number of iterations, check the scale of the features or consider increasing regularisation. Duality gap: 6.288e+01, tolerance: 2.490e-01\n",
            "  coef_, l1_reg, l2_reg, X, y, max_iter, tol, rng, random, positive\n"
          ]
        },
        {
          "output_type": "execute_result",
          "data": {
            "text/plain": [
              "Lasso(alpha=0.1)"
            ]
          },
          "metadata": {},
          "execution_count": 55
        }
      ]
    },
    {
      "cell_type": "code",
      "metadata": {
        "id": "LOYlQsU5MA-K",
        "colab": {
          "base_uri": "https://localhost:8080/",
          "height": 358
        },
        "outputId": "e3298a56-e581-4eb3-8673-74a68fd7a1c3"
      },
      "source": [
        "display_results(model_L1_reg)"
      ],
      "execution_count": null,
      "outputs": [
        {
          "output_type": "stream",
          "name": "stdout",
          "text": [
            "Training error (rmse): 1.909335205473549\n",
            "Testing error (rmse): 1.442597693897485\n"
          ]
        },
        {
          "output_type": "display_data",
          "data": {
            "text/plain": [
              "<Figure size 432x288 with 1 Axes>"
            ],
            "image/png": "[encoded data removed]"
          },
          "metadata": {
            "needs_background": "light"
          }
        },
        {
          "output_type": "stream",
          "name": "stdout",
          "text": [
            "Polynomial coefficients\n",
            "[14.058105460269042, 0.8302377098438338, -0.515989589349702, 0.0038542012762321125, -0.0666845602533545, -0.003454435882849361, 0.0009123886108000429, 0.00017616527174556148, 6.569339695499438e-05, 8.644521203061085e-06, 2.0577119453720218e-06, 2.1264465607205313e-07, 3.698505767740071e-08, 1.6361060722146509e-09, -2.1024337830260427e-10, -1.6495123894062072e-10, -5.6772216566834557e-11, -1.280399904191089e-11, -3.400407801991095e-12, -6.464427547245401e-13, -1.5552619094980985e-13, -2.7712158560428082e-14, -6.2926992576791594e-15, -1.0871674998428162e-15, -2.3716183928571347e-16, -4.032943410812039e-17, -8.533340583442789e-18, -1.4395758997146885e-18, -2.9718826114515913e-19, -4.9967125884717884e-20, -1.0103143429558417e-20, -1.6979354519878984e-21, -3.3713754445457644e-22, -5.675044329334451e-23, -1.1085254198668185e-23, -1.8718994161376884e-24, -3.601287888254531e-25, -6.108667489651357e-26, -1.158274103976816e-26, -1.976062509846095e-27, -3.693615260884171e-28, -6.346237593962717e-29, -1.1691274229107688e-29, -2.0260410291708223e-30, -3.6762106124397364e-31, -6.436811681695985e-32, -1.1490121676734547e-32, -2.0370619330619174e-33, -3.571119664725082e-34, -6.427388052419236e-35, -1.1038954233785713e-35, -2.0236222640158337e-36, -3.393915994604234e-37, -6.362853840024992e-38, -1.0376235739168005e-38, -1.9997311551578157e-39, -3.153221810130701e-40, -6.287452308803305e-41, -9.51750786544228e-42, -1.9795776668706124e-42, -2.8500247330597045e-43, -6.247523371395258e-44, -8.452555566023839e-45, -1.9786018029831805e-45, -2.476495209309663e-46, -6.295585435324012e-47, -7.140515126351613e-48, -2.0150303557320632e-48, -2.013988340000376e-49, -6.496080503580107e-50, -5.501815600630499e-51, -2.1120221996253478e-51, -1.4298304720539296e-52, -6.933389891316701e-53, -3.405486760582004e-54, -2.3006689385598137e-54, -6.723451471223055e-56, -7.723094511958776e-56, -6.497872478890583e-58, -2.624231336963408e-57, 3.366541505738856e-59, -9.02795241680668e-59, 3.0667759939928125e-60, -3.1441783021483766e-60, 1.7130178783399563e-61, -1.108076658454834e-61, 8.188276887732313e-63, -3.9488595480375233e-63, 3.626677090364205e-64, -1.4217317128626809e-64, 1.5364211713964526e-65, -5.166023096557724e-66, 6.325674247124872e-67, -1.892397690479504e-67, 2.5541324012109467e-68, -6.980938671785096e-69, 1.0171230858258838e-69, -2.590672393903936e-70, 4.00974705658136e-71, -9.662686139081851e-72, 1.5688833171635096e-72, -3.619130619342584e-73, 6.103652927650861e-74, -1.3602327906641387e-74, 2.3642583247240296e-75, -5.1268736141709996e-76, 9.127199024112146e-77, -1.936837031552121e-77, 3.51433572626892e-78, -7.330672204056108e-79, 1.3503943286709714e-79, -2.778737072415917e-80, 5.180610247102821e-81, -1.0545699164335194e-81, 1.9849635418144176e-82, -4.006111194990691e-83, 7.597856760196101e-84, -1.5230205814870423e-84, 2.9059436486719653e-85, -5.793694945026786e-86, 1.1107388564060388e-86, -2.2050474483916995e-87, 4.2434737357582465e-88, -8.395547407430261e-89, 1.6205414796816303e-89, -3.197525266562739e-90, 6.186755092230002e-91, -1.2181059300191911e-91, 2.3613351158932767e-92, -4.641305386893688e-93, 9.010861424485243e-94, -1.76873067468056e-94, 3.438005008007724e-95, -6.741178683701816e-96, 1.3115720314647981e-96, -2.5695171733167563e-97, 5.0030441318264056e-98, -9.794901051385111e-99, 1.908279157487065e-99, -3.734001947191754e-100, 7.278165321973805e-101, -1.4235395958110704e-101, 2.775747693197451e-102, -5.427262185975479e-103, 1.0585725131396457e-103, -2.0692116603909827e-104, 4.0368943334580486e-105, -7.889313950431891e-106, 1.5394414085952372e-106, -3.008026647826703e-107, 5.870434629901296e-108, -1.146913323599845e-108, 2.238569056238546e-109, -4.373052664648916e-110, 8.536215214647976e-111, -1.6674122936873416e-111, 3.2550376414831863e-112, -6.357768091247944e-113, 1.2412047220259026e-113, -2.4242038598910964e-114, 4.732910868691315e-115, -9.243488032600496e-116, 1.8047262807946755e-116, -3.52455699958059e-117, 6.881655956494162e-118, -1.3439243030305675e-118, 2.6240587697812927e-119, -5.1244405482583514e-120, 1.0005837776158847e-120, -1.95397638469368e-121, 3.8153370124514493e-122, -7.450633822678003e-123, 1.454829506996452e-123, -2.8409793238636955e-124, 5.547421955846789e-125, -1.0832876233916292e-125, 2.1152920208822853e-126, -4.1306678357584735e-127, 8.065839756838646e-128, -1.5750614058754356e-128, 3.075594342381371e-129, -6.005862501782242e-130, 1.1727590192256215e-130, -2.2900972193523067e-131, 4.4718663954017876e-132, -8.73238871048756e-133, 1.7051759618144535e-133, -3.3297588126582036e-134, 6.502044715998814e-135, -1.2696763993654424e-135, 2.4793114581476734e-136, -4.841432121959463e-137, 9.453935161789045e-138, -1.84609972488103e-138, 3.6049110558919845e-139, -7.039421318369489e-140, 1.3746017508204828e-140, -2.684226960776378e-141, 5.241548819305386e-142, -1.0235332751023725e-142, 1.9986777481834947e-143]\n"
          ]
        }
      ]
    },
    {
      "cell_type": "markdown",
      "metadata": {
        "id": "21v4zgmbMA-K"
      },
      "source": [
        "## Training a polynomial regression model with L2 regularization"
      ]
    },
    {
      "cell_type": "code",
      "metadata": {
        "id": "MrSeiPXPMA-K",
        "colab": {
          "base_uri": "https://localhost:8080/"
        },
        "outputId": "4cc68cd8-f0fc-4e29-c51e-db09c16254c7"
      },
      "source": [
        "from sklearn import linear_model\n",
        "## TODO ##\n",
        "# use sklearn Ridge (linear regression with L2 Norm) to fit the data \n",
        "# normalization trick ;)\n",
        "model_L2_reg = linear_model.Ridge(alpha=0.1,normalize=True)\n",
        "model_L2_reg.fit(X_train, y_train)\n"
      ],
      "execution_count": null,
      "outputs": [
        {
          "output_type": "stream",
          "name": "stderr",
          "text": [
            "/usr/local/lib/python3.7/dist-packages/sklearn/linear_model/_base.py:145: FutureWarning: 'normalize' was deprecated in version 1.0 and will be removed in 1.2.\n",
            "If you wish to scale the data, use Pipeline with a StandardScaler in a preprocessing stage. To reproduce the previous behavior:\n",
            "\n",
            "from sklearn.pipeline import make_pipeline\n",
            "\n",
            "model = make_pipeline(StandardScaler(with_mean=False), Ridge())\n",
            "\n",
            "If you wish to pass a sample_weight parameter, you need to pass it as a fit parameter to each step of the pipeline as follows:\n",
            "\n",
            "kwargs = {s[0] + '__sample_weight': sample_weight for s in model.steps}\n",
            "model.fit(X, y, **kwargs)\n",
            "\n",
            "Set parameter alpha to: original_alpha * n_samples. \n",
            "  FutureWarning,\n"
          ]
        },
        {
          "output_type": "execute_result",
          "data": {
            "text/plain": [
              "Ridge(alpha=0.1, normalize=True)"
            ]
          },
          "metadata": {},
          "execution_count": 53
        }
      ]
    },
    {
      "cell_type": "code",
      "metadata": {
        "id": "TyLoFFM_MA-L",
        "colab": {
          "base_uri": "https://localhost:8080/",
          "height": 358
        },
        "outputId": "b80206b7-50b7-4af2-9036-7c6b2483f955"
      },
      "source": [
        "display_results(model_L2_reg)"
      ],
      "execution_count": null,
      "outputs": [
        {
          "output_type": "stream",
          "name": "stdout",
          "text": [
            "Training error (rmse): 2.186644687467468\n",
            "Testing error (rmse): 1.1980237797225042\n"
          ]
        },
        {
          "output_type": "display_data",
          "data": {
            "text/plain": [
              "<Figure size 432x288 with 1 Axes>"
            ],
            "image/png": "[encoded data removed]"
          },
          "metadata": {
            "needs_background": "light"
          }
        },
        {
          "output_type": "stream",
          "name": "stdout",
          "text": [
            "Polynomial coefficients\n",
            "[13.147203894723587, 0.5523736557636261, -0.603798534149144, 0.013551969147966409, -0.013138639865283875, 0.000649652011884212, -0.00024129684944956145, 2.9049950905012906e-05, -3.0728134626499842e-06, 1.05909823925285e-06, 1.3085199122268233e-08, 3.3049167822859895e-08, 3.0274487578887987e-09, 9.121498990517528e-10, 1.5972221319779723e-10, 2.2126954998611217e-11, 6.73066629710108e-12, 4.3378439067966935e-13, 2.6105096883477045e-13, 4.013555863845907e-15, 9.766231668628533e-15, -2.1784795171600573e-16, 3.597437556845976e-16, -1.9091993428029794e-17, 1.3180665300878473e-17, -1.0381937106663652e-18, 4.828498208024944e-19, -4.8438124446480996e-20, 1.7730179488230063e-20, -2.0975663444957198e-21, 6.532495635693435e-22, -8.700347815966054e-23, 2.415302821578703e-23, -3.5111245725639345e-24, 8.958666181709895e-25, -1.390779039721856e-25, 3.331523126372086e-26, -5.4360147458139364e-27, 1.2413029973952095e-27, -2.1036912046811658e-28, 4.6307634987170277e-29, -8.078429442113483e-30, 1.7285729207918935e-30, -3.08291453383582e-31, 6.45250011285616e-32, -1.1703639414515506e-32, 2.4073773164509482e-33, -4.4227834000400545e-34, 8.972834794554525e-35, -1.6644567288726955e-35, 3.339611843879032e-36, -6.2396607718463146e-37, 1.240698778502139e-37, -2.3302899976879585e-38, 4.59905987833729e-39, -8.669974264205654e-40, 1.7003190302633125e-40, -3.2131985429071404e-41, 6.267107127538878e-42, -1.185983299724628e-42, 2.301854724700849e-43, -4.3581743103405164e-44, 8.420421006148737e-45, -1.5937802186863148e-45, 3.06595737798116e-46, -5.796988911044608e-47, 1.1103270880720332e-47, -2.0955779281386428e-48, 3.995656300252543e-49, -7.521625563971405e-50, 1.427155943421904e-50, -2.6771529366414266e-51, 5.05177908245687e-52, -9.432999072040229e-53, 1.7686093099172245e-53, -3.2827082289927016e-54, 6.107030476414398e-55, -1.124598523550356e-55, 2.071649432232937e-56, -3.7744534912400276e-57, 6.862791343681101e-58, -1.2318396766243008e-58, 2.1990076448325756e-59, -3.8606024759236407e-60, 6.701622874917914e-61, -1.1349152384926015e-61, 1.8774753096790434e-62, -2.969322395180129e-63, 4.429996599849209e-64, -5.853600143935065e-65, 5.909780766784024e-66, -3.097750457118928e-68, -2.1648867838755407e-67, 8.737894521149787e-68, -2.6026622805724002e-68, 6.894150013492463e-69, -1.7071054343130222e-69, 4.061424757837658e-70, -9.382985646810718e-71, 2.1247015110005355e-71, -4.73310488955719e-72, 1.0417559357320682e-72, -2.2691838473025997e-73, 4.903258875701373e-74, -1.0519282774128788e-74, 2.2438490660941124e-75, -4.7613496203484484e-76, 1.0059937298265653e-76, -2.117066994060404e-77, 4.440364468254728e-78, -9.284302601729275e-79, 1.9360500169808146e-79, -4.027133584897266e-80, 8.358437037657829e-81, -1.7312590123776733e-81, 3.5793883945778796e-82, -7.38774495782638e-83, 1.5224688510149407e-83, -3.132970344465478e-84, 6.438653472711303e-85, -1.321588210322171e-85, 2.7096071882537827e-86, -5.5494766014875635e-87, 1.1354564140300607e-87, -2.3210480326346544e-88, 4.7404885037331365e-89, -9.674012172389371e-90, 1.9726922880288125e-90, -4.0197391196623933e-91, 8.185450328242875e-92, -1.6657426527954407e-92, 3.3877465284040416e-93, -6.885955073741794e-94, 1.3988854157889862e-94, -2.840375992279201e-95, 5.764445527079294e-96, -1.1693297431656674e-96, 2.370962911746005e-97, -4.8053988526702834e-98, 9.735542947134317e-99, -1.9716263389702813e-99, 3.9914501782375847e-100, -8.077654738929974e-101, 1.634162813441553e-101, -3.3049653041051224e-102, 6.681995794738072e-103, -1.350574832798968e-103, 2.7290389836846526e-104, -5.512953837870586e-105, 1.1133901561150031e-105, -2.24803576909529e-106, 4.537913766423539e-107, -9.158206476490968e-108, 1.847862759852104e-108, -3.7276720679178874e-109, 7.518270110820877e-110, -1.516050506623498e-110, 3.056526275366799e-111, -6.161185743938607e-112, 1.241724006341141e-112, -2.5021490933506453e-113, 5.041169073041933e-114, -1.0155043883229798e-114, 2.0453480353872997e-115, -4.1189809506830327e-116, 8.293764612239784e-117, -1.669763930143824e-117, 3.361258502942305e-118, -6.765410349501545e-119, 1.3615500800120375e-119, -2.7398205159704227e-120, 5.512661571772939e-121, -1.109054545901373e-121, 2.2309940516871627e-122, -4.4874472529324735e-123, 9.025207455612953e-124, -1.8149861540966965e-124, 3.6496319501469234e-125, -7.338135807826318e-126, 1.4753144193689476e-126, -2.965833681868248e-127, 5.961746668859546e-128, -1.1983008638374003e-128, 2.4083795431443e-129, -4.840070885556342e-130, 9.726290735145336e-131, -1.9543955525545227e-131, 3.9268861094914496e-132, -7.889612301902093e-133, 1.5850223862026934e-133, -3.184112137865761e-134, 6.396101258757912e-135, -1.2847455083970667e-135, 2.580444005463636e-136, -5.182604316237773e-137, 1.0408272407980892e-137, -2.0901955209497214e-138, 4.197333697559877e-139, -8.428281685706875e-140, 1.6923265201558388e-140, -3.397891041519911e-141]\n"
          ]
        }
      ]
    },
    {
      "cell_type": "markdown",
      "metadata": {
        "id": "1EsLoBMqMA-L"
      },
      "source": [
        "## Viewing the predictions in the testing set"
      ]
    },
    {
      "cell_type": "code",
      "metadata": {
        "id": "TPp6zYZ6MA-L",
        "colab": {
          "base_uri": "https://localhost:8080/",
          "height": 300
        },
        "outputId": "33cba1fa-e188-43a0-980c-e3d793c71a4a"
      },
      "source": [
        "import pandas as pd\n",
        "from IPython.display import display\n",
        "predictions={}\n",
        "predictions ['x']=X_test[:,0]\n",
        "predictions ['y']=y_test\n",
        "predictions['No reg'] = model_no_reg.predict(X_test)\n",
        "predictions['L1 reg'] = model_L1_reg.predict(X_test)\n",
        "predictions['L2 reg'] = model_L2_reg.predict(X_test)\n",
        "predictions=pd.DataFrame.from_dict(predictions)\n",
        "display(predictions)"
      ],
      "execution_count": null,
      "outputs": [
        {
          "output_type": "display_data",
          "data": {
            "text/plain": [
              "          x          y        No reg     L1 reg     L2 reg\n",
              "0  4.130111   4.299534  1.360417e+07   3.993408   3.174074\n",
              "1 -1.747956  11.091072 -4.611715e+02  10.465754  10.122464\n",
              "2  0.112747  12.205789 -1.574182e+01  14.145148  13.201824\n",
              "3  0.876171  12.574041  5.766994e+00  14.351442  13.169266\n",
              "4  2.197047   9.366124 -2.792689e+04  11.900953  11.297035\n",
              "5  0.046869  12.858476  8.284569e-01  14.095884  13.171768\n",
              "6 -1.150989  13.436894 -5.351102e+03  12.304839  11.665844\n",
              "7  0.474409  14.257854 -3.517417e+01  14.332809  13.274156"
            ],
            "text/html": [
              "\n",
              "  <div id=\"df-2a18ff77-8eeb-4ba8-978c-8ce2f559a265\">\n",
              "    <div class=\"colab-df-container\">\n",
              "      <div>\n",
              "<style scoped>\n",
              "    .dataframe tbody tr th:only-of-type {\n",
              "        vertical-align: middle;\n",
              "    }\n",
              "\n",
              "    .dataframe tbody tr th {\n",
              "        vertical-align: top;\n",
              "    }\n",
              "\n",
              "    .dataframe thead th {\n",
              "        text-align: right;\n",
              "    }\n",
              "</style>\n",
              "<table border=\"1\" class=\"dataframe\">\n",
              "  <thead>\n",
              "    <tr style=\"text-align: right;\">\n",
              "      <th></th>\n",
              "      <th>x</th>\n",
              "      <th>y</th>\n",
              "      <th>No reg</th>\n",
              "      <th>L1 reg</th>\n",
              "      <th>L2 reg</th>\n",
              "    </tr>\n",
              "  </thead>\n",
              "  <tbody>\n",
              "    <tr>\n",
              "      <th>0</th>\n",
              "      <td>4.130111</td>\n",
              "      <td>4.299534</td>\n",
              "      <td>1.360417e+07</td>\n",
              "      <td>3.993408</td>\n",
              "      <td>3.174074</td>\n",
              "    </tr>\n",
              "    <tr>\n",
              "      <th>1</th>\n",
              "      <td>-1.747956</td>\n",
              "      <td>11.091072</td>\n",
              "      <td>-4.611715e+02</td>\n",
              "      <td>10.465754</td>\n",
              "      <td>10.122464</td>\n",
              "    </tr>\n",
              "    <tr>\n",
              "      <th>2</th>\n",
              "      <td>0.112747</td>\n",
              "      <td>12.205789</td>\n",
              "      <td>-1.574182e+01</td>\n",
              "      <td>14.145148</td>\n",
              "      <td>13.201824</td>\n",
              "    </tr>\n",
              "    <tr>\n",
              "      <th>3</th>\n",
              "      <td>0.876171</td>\n",
              "      <td>12.574041</td>\n",
              "      <td>5.766994e+00</td>\n",
              "      <td>14.351442</td>\n",
              "      <td>13.169266</td>\n",
              "    </tr>\n",
              "    <tr>\n",
              "      <th>4</th>\n",
              "      <td>2.197047</td>\n",
              "      <td>9.366124</td>\n",
              "      <td>-2.792689e+04</td>\n",
              "      <td>11.900953</td>\n",
              "      <td>11.297035</td>\n",
              "    </tr>\n",
              "    <tr>\n",
              "      <th>5</th>\n",
              "      <td>0.046869</td>\n",
              "      <td>12.858476</td>\n",
              "      <td>8.284569e-01</td>\n",
              "      <td>14.095884</td>\n",
              "      <td>13.171768</td>\n",
              "    </tr>\n",
              "    <tr>\n",
              "      <th>6</th>\n",
              "      <td>-1.150989</td>\n",
              "      <td>13.436894</td>\n",
              "      <td>-5.351102e+03</td>\n",
              "      <td>12.304839</td>\n",
              "      <td>11.665844</td>\n",
              "    </tr>\n",
              "    <tr>\n",
              "      <th>7</th>\n",
              "      <td>0.474409</td>\n",
              "      <td>14.257854</td>\n",
              "      <td>-3.517417e+01</td>\n",
              "      <td>14.332809</td>\n",
              "      <td>13.274156</td>\n",
              "    </tr>\n",
              "  </tbody>\n",
              "</table>\n",
              "</div>\n",
              "      <button class=\"colab-df-convert\" onclick=\"convertToInteractive('df-2a18ff77-8eeb-4ba8-978c-8ce2f559a265')\"\n",
              "              title=\"Convert this dataframe to an interactive table.\"\n",
              "              style=\"display:none;\">\n",
              "        \n",
              "  <svg xmlns=\"http://www.w3.org/2000/svg\" height=\"24px\"viewBox=\"0 0 24 24\"\n",
              "       width=\"24px\">\n",
              "    <path d=\"M0 0h24v24H0V0z\" fill=\"none\"/>\n",
              "    <path d=\"M18.56 5.44l.94 2.06.94-2.06 2.06-.94-2.06-.94-.94-2.06-.94 2.06-2.06.94zm-11 1L8.5 8.5l.94-2.06 2.06-.94-2.06-.94L8.5 2.5l-.94 2.06-2.06.94zm10 10l.94 2.06.94-2.06 2.06-.94-2.06-.94-.94-2.06-.94 2.06-2.06.94z\"/><path d=\"M17.41 7.96l-1.37-1.37c-.4-.4-.92-.59-1.43-.59-.52 0-1.04.2-1.43.59L10.3 9.45l-7.72 7.72c-.78.78-.78 2.05 0 2.83L4 21.41c.39.39.9.59 1.41.59.51 0 1.02-.2 1.41-.59l7.78-7.78 2.81-2.81c.8-.78.8-2.07 0-2.86zM5.41 20L4 18.59l7.72-7.72 1.47 1.35L5.41 20z\"/>\n",
              "  </svg>\n",
              "      </button>\n",
              "      \n",
              "  <style>\n",
              "    .colab-df-container {\n",
              "      display:flex;\n",
              "      flex-wrap:wrap;\n",
              "      gap: 12px;\n",
              "    }\n",
              "\n",
              "    .colab-df-convert {\n",
              "      background-color: #E8F0FE;\n",
              "      border: none;\n",
              "      border-radius: 50%;\n",
              "      cursor: pointer;\n",
              "      display: none;\n",
              "      fill: #1967D2;\n",
              "      height: 32px;\n",
              "      padding: 0 0 0 0;\n",
              "      width: 32px;\n",
              "    }\n",
              "\n",
              "    .colab-df-convert:hover {\n",
              "      background-color: #E2EBFA;\n",
              "      box-shadow: 0px 1px 2px rgba(60, 64, 67, 0.3), 0px 1px 3px 1px rgba(60, 64, 67, 0.15);\n",
              "      fill: #174EA6;\n",
              "    }\n",
              "\n",
              "    [theme=dark] .colab-df-convert {\n",
              "      background-color: #3B4455;\n",
              "      fill: #D2E3FC;\n",
              "    }\n",
              "\n",
              "    [theme=dark] .colab-df-convert:hover {\n",
              "      background-color: #434B5C;\n",
              "      box-shadow: 0px 1px 3px 1px rgba(0, 0, 0, 0.15);\n",
              "      filter: drop-shadow(0px 1px 2px rgba(0, 0, 0, 0.3));\n",
              "      fill: #FFFFFF;\n",
              "    }\n",
              "  </style>\n",
              "\n",
              "      <script>\n",
              "        const buttonEl =\n",
              "          document.querySelector('#df-2a18ff77-8eeb-4ba8-978c-8ce2f559a265 button.colab-df-convert');\n",
              "        buttonEl.style.display =\n",
              "          google.colab.kernel.accessAllowed ? 'block' : 'none';\n",
              "\n",
              "        async function convertToInteractive(key) {\n",
              "          const element = document.querySelector('#df-2a18ff77-8eeb-4ba8-978c-8ce2f559a265');\n",
              "          const dataTable =\n",
              "            await google.colab.kernel.invokeFunction('convertToInteractive',\n",
              "                                                     [key], {});\n",
              "          if (!dataTable) return;\n",
              "\n",
              "          const docLinkHtml = 'Like what you see? Visit the ' +\n",
              "            '<a target=\"_blank\" href=https://colab.research.google.com/notebooks/data_table.ipynb>data table notebook</a>'\n",
              "            + ' to learn more about interactive tables.';\n",
              "          element.innerHTML = '';\n",
              "          dataTable['output_type'] = 'display_data';\n",
              "          await google.colab.output.renderOutput(dataTable, element);\n",
              "          const docLink = document.createElement('div');\n",
              "          docLink.innerHTML = docLinkHtml;\n",
              "          element.appendChild(docLink);\n",
              "        }\n",
              "      </script>\n",
              "    </div>\n",
              "  </div>\n",
              "  "
            ]
          },
          "metadata": {}
        }
      ]
    }
  ]
}