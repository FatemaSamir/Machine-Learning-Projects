{
  "cells": [
    {
      "cell_type": "markdown",
      "metadata": {
        "id": "view-in-github",
        "colab_type": "text"
      },
      "source": [
        "<a href=\"https://colab.research.google.com/github/FatemaSamir/Machine-Learning-Projects/blob/main/Hierarchical_Clustering.ipynb\" target=\"_parent\"><img src=\"https://colab.research.google.com/assets/colab-badge.svg\" alt=\"Open In Colab\"/></a>"
      ]
    },
    {
      "cell_type": "markdown",
      "metadata": {
        "id": "-eZdlCbNObuQ"
      },
      "source": [
        "# <a name=\"0\">Hierarchical Clustering</a>"
      ]
    },
    {
      "cell_type": "markdown",
      "metadata": {
        "id": "VqT9GDcyObuU"
      },
      "source": [
        "1. <a href=\"#1\">Read the dataset</a>\n",
        "2. <a href=\"#2\">Data investigation</a>\n",
        "3. <a href=\"#3\">Data preprocessing </a>\n",
        "4. <a href=\"#4\">Features transformation </a>\n",
        "4. <a href=\"#5\">Training datasets</a>\n",
        "5. <a href=\"#6\">Improvement ideas</a>\n",
        "\n"
      ]
    },
    {
      "cell_type": "code",
      "execution_count": null,
      "metadata": {
        "id": "XSElpVk4ObuU"
      },
      "outputs": [],
      "source": [
        "import pandas as pd\n",
        "import numpy as np\n",
        "import matplotlib.pyplot as plt\n",
        "import warnings\n",
        "warnings.filterwarnings(\"ignore\")"
      ]
    },
    {
      "cell_type": "markdown",
      "metadata": {
        "id": "7mOxUiX3ObuW"
      },
      "source": [
        "## 1. <a name=\"1\">Read the dataset</a>\n",
        "(<a href=\"#0\">Go to top</a>)\n",
        "\n",
        "First dowmload the data set from this link https://www.kaggle.com/fernandol/countries-of-the-world\n",
        "then import it in python."
      ]
    },
    {
      "cell_type": "code",
      "execution_count": null,
      "metadata": {
        "colab": {
          "base_uri": "https://localhost:8080/"
        },
        "id": "cLMkcKgxObuX",
        "outputId": "6430e98f-c51a-4c71-8990-3f4a1c8f9caf"
      },
      "outputs": [
        {
          "output_type": "stream",
          "name": "stdout",
          "text": [
            "The shape of the dataset is: (227, 20)\n"
          ]
        }
      ],
      "source": [
        "#read the data\n",
        "\n",
        "data_path = '/content/countries of the world.csv'  #the path where you downloaded the data\n",
        "df = pd.read_csv(data_path)\n",
        "\n",
        "print('The shape of the dataset is:', df.shape)"
      ]
    },
    {
      "cell_type": "markdown",
      "metadata": {
        "id": "Vx_yXvmKObuX"
      },
      "source": [
        "## 2. <a name=\"2\">Data investigation</a>\n",
        "(<a href=\"#0\">Go to top</a>)\n",
        "\n",
        "in this part you need to check the data quality and assess any issues in the data as:\n",
        "- null values in each column \n",
        "- each column has the proper data type\n",
        "- outliers\n",
        "- duplicate rows\n",
        "- distribution for each column (skewness)\n",
        "<br>\n",
        "\n",
        "**comment each issue you find** "
      ]
    },
    {
      "cell_type": "code",
      "execution_count": null,
      "metadata": {
        "colab": {
          "base_uri": "https://localhost:8080/"
        },
        "id": "VPdW2J6cObuY",
        "outputId": "9172c284-ecc7-4cd3-c539-a7f23f34cd58"
      },
      "outputs": [
        {
          "output_type": "stream",
          "name": "stdout",
          "text": [
            "<class 'pandas.core.frame.DataFrame'>\n",
            "RangeIndex: 227 entries, 0 to 226\n",
            "Data columns (total 20 columns):\n",
            " #   Column                              Non-Null Count  Dtype  \n",
            "---  ------                              --------------  -----  \n",
            " 0   Country                             227 non-null    object \n",
            " 1   Region                              227 non-null    object \n",
            " 2   Population                          227 non-null    int64  \n",
            " 3   Area (sq. mi.)                      227 non-null    int64  \n",
            " 4   Pop. Density (per sq. mi.)          227 non-null    object \n",
            " 5   Coastline (coast/area ratio)        227 non-null    object \n",
            " 6   Net migration                       224 non-null    object \n",
            " 7   Infant mortality (per 1000 births)  224 non-null    object \n",
            " 8   GDP ($ per capita)                  226 non-null    float64\n",
            " 9   Literacy (%)                        209 non-null    object \n",
            " 10  Phones (per 1000)                   223 non-null    object \n",
            " 11  Arable (%)                          225 non-null    object \n",
            " 12  Crops (%)                           225 non-null    object \n",
            " 13  Other (%)                           225 non-null    object \n",
            " 14  Climate                             205 non-null    object \n",
            " 15  Birthrate                           224 non-null    object \n",
            " 16  Deathrate                           223 non-null    object \n",
            " 17  Agriculture                         212 non-null    object \n",
            " 18  Industry                            211 non-null    object \n",
            " 19  Service                             212 non-null    object \n",
            "dtypes: float64(1), int64(2), object(17)\n",
            "memory usage: 35.6+ KB\n"
          ]
        }
      ],
      "source": [
        "# Let's see the data types and non-null values for each column\n",
        "df.info()"
      ]
    },
    {
      "cell_type": "code",
      "source": [
        "df.head(10)"
      ],
      "metadata": {
        "colab": {
          "base_uri": "https://localhost:8080/",
          "height": 774
        },
        "id": "PH8dBj0BXGj-",
        "outputId": "e2ee109d-96c8-4d85-ff5e-2ccf16d7e01c"
      },
      "execution_count": null,
      "outputs": [
        {
          "output_type": "execute_result",
          "data": {
            "text/plain": [
              "              Country                               Region  Population  \\\n",
              "0        Afghanistan         ASIA (EX. NEAR EAST)             31056997   \n",
              "1            Albania   EASTERN EUROPE                          3581655   \n",
              "2            Algeria   NORTHERN AFRICA                        32930091   \n",
              "3     American Samoa   OCEANIA                                   57794   \n",
              "4            Andorra   WESTERN EUROPE                            71201   \n",
              "5             Angola   SUB-SAHARAN AFRICA                     12127071   \n",
              "6           Anguilla               LATIN AMER. & CARIB           13477   \n",
              "7  Antigua & Barbuda               LATIN AMER. & CARIB           69108   \n",
              "8          Argentina               LATIN AMER. & CARIB        39921833   \n",
              "9            Armenia                  C.W. OF IND. STATES      2976372   \n",
              "\n",
              "   Area (sq. mi.) Pop. Density (per sq. mi.) Coastline (coast/area ratio)  \\\n",
              "0          647500                       48,0                         0,00   \n",
              "1           28748                      124,6                         1,26   \n",
              "2         2381740                       13,8                         0,04   \n",
              "3             199                      290,4                        58,29   \n",
              "4             468                      152,1                         0,00   \n",
              "5         1246700                        9,7                         0,13   \n",
              "6             102                      132,1                        59,80   \n",
              "7             443                      156,0                        34,54   \n",
              "8         2766890                       14,4                         0,18   \n",
              "9           29800                       99,9                         0,00   \n",
              "\n",
              "  Net migration Infant mortality (per 1000 births)  GDP ($ per capita)  \\\n",
              "0         23,06                             163,07               700.0   \n",
              "1         -4,93                              21,52              4500.0   \n",
              "2         -0,39                                 31              6000.0   \n",
              "3        -20,71                               9,27              8000.0   \n",
              "4           6,6                               4,05             19000.0   \n",
              "5             0                             191,19              1900.0   \n",
              "6         10,76                              21,03              8600.0   \n",
              "7         -6,15                              19,46             11000.0   \n",
              "8          0,61                              15,18             11200.0   \n",
              "9         -6,47                              23,28              3500.0   \n",
              "\n",
              "  Literacy (%) Phones (per 1000) Arable (%) Crops (%) Other (%) Climate  \\\n",
              "0         36,0               3,2      12,13      0,22     87,65       1   \n",
              "1         86,5              71,2      21,09      4,42     74,49       3   \n",
              "2         70,0              78,1       3,22      0,25     96,53       1   \n",
              "3         97,0             259,5         10        15        75       2   \n",
              "4        100,0             497,2       2,22         0     97,78       3   \n",
              "5         42,0               7,8       2,41      0,24     97,35     NaN   \n",
              "6         95,0             460,0          0         0       100       2   \n",
              "7         89,0             549,9      18,18      4,55     77,27       2   \n",
              "8         97,1             220,4      12,31      0,48     87,21       3   \n",
              "9         98,6             195,7      17,55       2,3     80,15       4   \n",
              "\n",
              "  Birthrate Deathrate Agriculture Industry Service  \n",
              "0      46,6     20,34        0,38     0,24    0,38  \n",
              "1     15,11      5,22       0,232    0,188   0,579  \n",
              "2     17,14      4,61       0,101      0,6   0,298  \n",
              "3     22,46      3,27         NaN      NaN     NaN  \n",
              "4      8,71      6,25         NaN      NaN     NaN  \n",
              "5     45,11      24,2       0,096    0,658   0,246  \n",
              "6     14,17      5,34        0,04     0,18    0,78  \n",
              "7     16,93      5,37       0,038     0,22   0,743  \n",
              "8     16,73      7,55       0,095    0,358   0,547  \n",
              "9     12,07      8,23       0,239    0,343   0,418  "
            ],
            "text/html": [
              "\n",
              "  <div id=\"df-1db6954c-4776-4400-a475-1c447e43eda3\">\n",
              "    <div class=\"colab-df-container\">\n",
              "      <div>\n",
              "<style scoped>\n",
              "    .dataframe tbody tr th:only-of-type {\n",
              "        vertical-align: middle;\n",
              "    }\n",
              "\n",
              "    .dataframe tbody tr th {\n",
              "        vertical-align: top;\n",
              "    }\n",
              "\n",
              "    .dataframe thead th {\n",
              "        text-align: right;\n",
              "    }\n",
              "</style>\n",
              "<table border=\"1\" class=\"dataframe\">\n",
              "  <thead>\n",
              "    <tr style=\"text-align: right;\">\n",
              "      <th></th>\n",
              "      <th>Country</th>\n",
              "      <th>Region</th>\n",
              "      <th>Population</th>\n",
              "      <th>Area (sq. mi.)</th>\n",
              "      <th>Pop. Density (per sq. mi.)</th>\n",
              "      <th>Coastline (coast/area ratio)</th>\n",
              "      <th>Net migration</th>\n",
              "      <th>Infant mortality (per 1000 births)</th>\n",
              "      <th>GDP ($ per capita)</th>\n",
              "      <th>Literacy (%)</th>\n",
              "      <th>Phones (per 1000)</th>\n",
              "      <th>Arable (%)</th>\n",
              "      <th>Crops (%)</th>\n",
              "      <th>Other (%)</th>\n",
              "      <th>Climate</th>\n",
              "      <th>Birthrate</th>\n",
              "      <th>Deathrate</th>\n",
              "      <th>Agriculture</th>\n",
              "      <th>Industry</th>\n",
              "      <th>Service</th>\n",
              "    </tr>\n",
              "  </thead>\n",
              "  <tbody>\n",
              "    <tr>\n",
              "      <th>0</th>\n",
              "      <td>Afghanistan</td>\n",
              "      <td>ASIA (EX. NEAR EAST)</td>\n",
              "      <td>31056997</td>\n",
              "      <td>647500</td>\n",
              "      <td>48,0</td>\n",
              "      <td>0,00</td>\n",
              "      <td>23,06</td>\n",
              "      <td>163,07</td>\n",
              "      <td>700.0</td>\n",
              "      <td>36,0</td>\n",
              "      <td>3,2</td>\n",
              "      <td>12,13</td>\n",
              "      <td>0,22</td>\n",
              "      <td>87,65</td>\n",
              "      <td>1</td>\n",
              "      <td>46,6</td>\n",
              "      <td>20,34</td>\n",
              "      <td>0,38</td>\n",
              "      <td>0,24</td>\n",
              "      <td>0,38</td>\n",
              "    </tr>\n",
              "    <tr>\n",
              "      <th>1</th>\n",
              "      <td>Albania</td>\n",
              "      <td>EASTERN EUROPE</td>\n",
              "      <td>3581655</td>\n",
              "      <td>28748</td>\n",
              "      <td>124,6</td>\n",
              "      <td>1,26</td>\n",
              "      <td>-4,93</td>\n",
              "      <td>21,52</td>\n",
              "      <td>4500.0</td>\n",
              "      <td>86,5</td>\n",
              "      <td>71,2</td>\n",
              "      <td>21,09</td>\n",
              "      <td>4,42</td>\n",
              "      <td>74,49</td>\n",
              "      <td>3</td>\n",
              "      <td>15,11</td>\n",
              "      <td>5,22</td>\n",
              "      <td>0,232</td>\n",
              "      <td>0,188</td>\n",
              "      <td>0,579</td>\n",
              "    </tr>\n",
              "    <tr>\n",
              "      <th>2</th>\n",
              "      <td>Algeria</td>\n",
              "      <td>NORTHERN AFRICA</td>\n",
              "      <td>32930091</td>\n",
              "      <td>2381740</td>\n",
              "      <td>13,8</td>\n",
              "      <td>0,04</td>\n",
              "      <td>-0,39</td>\n",
              "      <td>31</td>\n",
              "      <td>6000.0</td>\n",
              "      <td>70,0</td>\n",
              "      <td>78,1</td>\n",
              "      <td>3,22</td>\n",
              "      <td>0,25</td>\n",
              "      <td>96,53</td>\n",
              "      <td>1</td>\n",
              "      <td>17,14</td>\n",
              "      <td>4,61</td>\n",
              "      <td>0,101</td>\n",
              "      <td>0,6</td>\n",
              "      <td>0,298</td>\n",
              "    </tr>\n",
              "    <tr>\n",
              "      <th>3</th>\n",
              "      <td>American Samoa</td>\n",
              "      <td>OCEANIA</td>\n",
              "      <td>57794</td>\n",
              "      <td>199</td>\n",
              "      <td>290,4</td>\n",
              "      <td>58,29</td>\n",
              "      <td>-20,71</td>\n",
              "      <td>9,27</td>\n",
              "      <td>8000.0</td>\n",
              "      <td>97,0</td>\n",
              "      <td>259,5</td>\n",
              "      <td>10</td>\n",
              "      <td>15</td>\n",
              "      <td>75</td>\n",
              "      <td>2</td>\n",
              "      <td>22,46</td>\n",
              "      <td>3,27</td>\n",
              "      <td>NaN</td>\n",
              "      <td>NaN</td>\n",
              "      <td>NaN</td>\n",
              "    </tr>\n",
              "    <tr>\n",
              "      <th>4</th>\n",
              "      <td>Andorra</td>\n",
              "      <td>WESTERN EUROPE</td>\n",
              "      <td>71201</td>\n",
              "      <td>468</td>\n",
              "      <td>152,1</td>\n",
              "      <td>0,00</td>\n",
              "      <td>6,6</td>\n",
              "      <td>4,05</td>\n",
              "      <td>19000.0</td>\n",
              "      <td>100,0</td>\n",
              "      <td>497,2</td>\n",
              "      <td>2,22</td>\n",
              "      <td>0</td>\n",
              "      <td>97,78</td>\n",
              "      <td>3</td>\n",
              "      <td>8,71</td>\n",
              "      <td>6,25</td>\n",
              "      <td>NaN</td>\n",
              "      <td>NaN</td>\n",
              "      <td>NaN</td>\n",
              "    </tr>\n",
              "    <tr>\n",
              "      <th>5</th>\n",
              "      <td>Angola</td>\n",
              "      <td>SUB-SAHARAN AFRICA</td>\n",
              "      <td>12127071</td>\n",
              "      <td>1246700</td>\n",
              "      <td>9,7</td>\n",
              "      <td>0,13</td>\n",
              "      <td>0</td>\n",
              "      <td>191,19</td>\n",
              "      <td>1900.0</td>\n",
              "      <td>42,0</td>\n",
              "      <td>7,8</td>\n",
              "      <td>2,41</td>\n",
              "      <td>0,24</td>\n",
              "      <td>97,35</td>\n",
              "      <td>NaN</td>\n",
              "      <td>45,11</td>\n",
              "      <td>24,2</td>\n",
              "      <td>0,096</td>\n",
              "      <td>0,658</td>\n",
              "      <td>0,246</td>\n",
              "    </tr>\n",
              "    <tr>\n",
              "      <th>6</th>\n",
              "      <td>Anguilla</td>\n",
              "      <td>LATIN AMER. &amp; CARIB</td>\n",
              "      <td>13477</td>\n",
              "      <td>102</td>\n",
              "      <td>132,1</td>\n",
              "      <td>59,80</td>\n",
              "      <td>10,76</td>\n",
              "      <td>21,03</td>\n",
              "      <td>8600.0</td>\n",
              "      <td>95,0</td>\n",
              "      <td>460,0</td>\n",
              "      <td>0</td>\n",
              "      <td>0</td>\n",
              "      <td>100</td>\n",
              "      <td>2</td>\n",
              "      <td>14,17</td>\n",
              "      <td>5,34</td>\n",
              "      <td>0,04</td>\n",
              "      <td>0,18</td>\n",
              "      <td>0,78</td>\n",
              "    </tr>\n",
              "    <tr>\n",
              "      <th>7</th>\n",
              "      <td>Antigua &amp; Barbuda</td>\n",
              "      <td>LATIN AMER. &amp; CARIB</td>\n",
              "      <td>69108</td>\n",
              "      <td>443</td>\n",
              "      <td>156,0</td>\n",
              "      <td>34,54</td>\n",
              "      <td>-6,15</td>\n",
              "      <td>19,46</td>\n",
              "      <td>11000.0</td>\n",
              "      <td>89,0</td>\n",
              "      <td>549,9</td>\n",
              "      <td>18,18</td>\n",
              "      <td>4,55</td>\n",
              "      <td>77,27</td>\n",
              "      <td>2</td>\n",
              "      <td>16,93</td>\n",
              "      <td>5,37</td>\n",
              "      <td>0,038</td>\n",
              "      <td>0,22</td>\n",
              "      <td>0,743</td>\n",
              "    </tr>\n",
              "    <tr>\n",
              "      <th>8</th>\n",
              "      <td>Argentina</td>\n",
              "      <td>LATIN AMER. &amp; CARIB</td>\n",
              "      <td>39921833</td>\n",
              "      <td>2766890</td>\n",
              "      <td>14,4</td>\n",
              "      <td>0,18</td>\n",
              "      <td>0,61</td>\n",
              "      <td>15,18</td>\n",
              "      <td>11200.0</td>\n",
              "      <td>97,1</td>\n",
              "      <td>220,4</td>\n",
              "      <td>12,31</td>\n",
              "      <td>0,48</td>\n",
              "      <td>87,21</td>\n",
              "      <td>3</td>\n",
              "      <td>16,73</td>\n",
              "      <td>7,55</td>\n",
              "      <td>0,095</td>\n",
              "      <td>0,358</td>\n",
              "      <td>0,547</td>\n",
              "    </tr>\n",
              "    <tr>\n",
              "      <th>9</th>\n",
              "      <td>Armenia</td>\n",
              "      <td>C.W. OF IND. STATES</td>\n",
              "      <td>2976372</td>\n",
              "      <td>29800</td>\n",
              "      <td>99,9</td>\n",
              "      <td>0,00</td>\n",
              "      <td>-6,47</td>\n",
              "      <td>23,28</td>\n",
              "      <td>3500.0</td>\n",
              "      <td>98,6</td>\n",
              "      <td>195,7</td>\n",
              "      <td>17,55</td>\n",
              "      <td>2,3</td>\n",
              "      <td>80,15</td>\n",
              "      <td>4</td>\n",
              "      <td>12,07</td>\n",
              "      <td>8,23</td>\n",
              "      <td>0,239</td>\n",
              "      <td>0,343</td>\n",
              "      <td>0,418</td>\n",
              "    </tr>\n",
              "  </tbody>\n",
              "</table>\n",
              "</div>\n",
              "      <button class=\"colab-df-convert\" onclick=\"convertToInteractive('df-1db6954c-4776-4400-a475-1c447e43eda3')\"\n",
              "              title=\"Convert this dataframe to an interactive table.\"\n",
              "              style=\"display:none;\">\n",
              "        \n",
              "  <svg xmlns=\"http://www.w3.org/2000/svg\" height=\"24px\"viewBox=\"0 0 24 24\"\n",
              "       width=\"24px\">\n",
              "    <path d=\"M0 0h24v24H0V0z\" fill=\"none\"/>\n",
              "    <path d=\"M18.56 5.44l.94 2.06.94-2.06 2.06-.94-2.06-.94-.94-2.06-.94 2.06-2.06.94zm-11 1L8.5 8.5l.94-2.06 2.06-.94-2.06-.94L8.5 2.5l-.94 2.06-2.06.94zm10 10l.94 2.06.94-2.06 2.06-.94-2.06-.94-.94-2.06-.94 2.06-2.06.94z\"/><path d=\"M17.41 7.96l-1.37-1.37c-.4-.4-.92-.59-1.43-.59-.52 0-1.04.2-1.43.59L10.3 9.45l-7.72 7.72c-.78.78-.78 2.05 0 2.83L4 21.41c.39.39.9.59 1.41.59.51 0 1.02-.2 1.41-.59l7.78-7.78 2.81-2.81c.8-.78.8-2.07 0-2.86zM5.41 20L4 18.59l7.72-7.72 1.47 1.35L5.41 20z\"/>\n",
              "  </svg>\n",
              "      </button>\n",
              "      \n",
              "  <style>\n",
              "    .colab-df-container {\n",
              "      display:flex;\n",
              "      flex-wrap:wrap;\n",
              "      gap: 12px;\n",
              "    }\n",
              "\n",
              "    .colab-df-convert {\n",
              "      background-color: #E8F0FE;\n",
              "      border: none;\n",
              "      border-radius: 50%;\n",
              "      cursor: pointer;\n",
              "      display: none;\n",
              "      fill: #1967D2;\n",
              "      height: 32px;\n",
              "      padding: 0 0 0 0;\n",
              "      width: 32px;\n",
              "    }\n",
              "\n",
              "    .colab-df-convert:hover {\n",
              "      background-color: #E2EBFA;\n",
              "      box-shadow: 0px 1px 2px rgba(60, 64, 67, 0.3), 0px 1px 3px 1px rgba(60, 64, 67, 0.15);\n",
              "      fill: #174EA6;\n",
              "    }\n",
              "\n",
              "    [theme=dark] .colab-df-convert {\n",
              "      background-color: #3B4455;\n",
              "      fill: #D2E3FC;\n",
              "    }\n",
              "\n",
              "    [theme=dark] .colab-df-convert:hover {\n",
              "      background-color: #434B5C;\n",
              "      box-shadow: 0px 1px 3px 1px rgba(0, 0, 0, 0.15);\n",
              "      filter: drop-shadow(0px 1px 2px rgba(0, 0, 0, 0.3));\n",
              "      fill: #FFFFFF;\n",
              "    }\n",
              "  </style>\n",
              "\n",
              "      <script>\n",
              "        const buttonEl =\n",
              "          document.querySelector('#df-1db6954c-4776-4400-a475-1c447e43eda3 button.colab-df-convert');\n",
              "        buttonEl.style.display =\n",
              "          google.colab.kernel.accessAllowed ? 'block' : 'none';\n",
              "\n",
              "        async function convertToInteractive(key) {\n",
              "          const element = document.querySelector('#df-1db6954c-4776-4400-a475-1c447e43eda3');\n",
              "          const dataTable =\n",
              "            await google.colab.kernel.invokeFunction('convertToInteractive',\n",
              "                                                     [key], {});\n",
              "          if (!dataTable) return;\n",
              "\n",
              "          const docLinkHtml = 'Like what you see? Visit the ' +\n",
              "            '<a target=\"_blank\" href=https://colab.research.google.com/notebooks/data_table.ipynb>data table notebook</a>'\n",
              "            + ' to learn more about interactive tables.';\n",
              "          element.innerHTML = '';\n",
              "          dataTable['output_type'] = 'display_data';\n",
              "          await google.colab.output.renderOutput(dataTable, element);\n",
              "          const docLink = document.createElement('div');\n",
              "          docLink.innerHTML = docLinkHtml;\n",
              "          element.appendChild(docLink);\n",
              "        }\n",
              "      </script>\n",
              "    </div>\n",
              "  </div>\n",
              "  "
            ]
          },
          "metadata": {},
          "execution_count": 5
        }
      ]
    },
    {
      "cell_type": "code",
      "source": [
        "df.sample()"
      ],
      "metadata": {
        "colab": {
          "base_uri": "https://localhost:8080/",
          "height": 249
        },
        "id": "Kmehao1pY_KQ",
        "outputId": "23e572e8-f1ea-4a8f-dd2c-ef2c30eb7bbe"
      },
      "execution_count": null,
      "outputs": [
        {
          "output_type": "execute_result",
          "data": {
            "text/plain": [
              "                 Country                               Region  Population  \\\n",
              "153  N. Mariana Islands   OCEANIA                                   82459   \n",
              "\n",
              "     Area (sq. mi.) Pop. Density (per sq. mi.) Coastline (coast/area ratio)  \\\n",
              "153             477                      172,9                       310,69   \n",
              "\n",
              "    Net migration Infant mortality (per 1000 births)  GDP ($ per capita)  \\\n",
              "153          9,61                               7,11             12500.0   \n",
              "\n",
              "    Literacy (%) Phones (per 1000) Arable (%) Crops (%) Other (%) Climate  \\\n",
              "153         97,0             254,7      13,04      4,35     82,61       2   \n",
              "\n",
              "    Birthrate Deathrate Agriculture Industry Service  \n",
              "153     19,43      2,29         NaN      NaN     NaN  "
            ],
            "text/html": [
              "\n",
              "  <div id=\"df-7242211b-2353-4d1a-9fb1-80fe8b401d28\">\n",
              "    <div class=\"colab-df-container\">\n",
              "      <div>\n",
              "<style scoped>\n",
              "    .dataframe tbody tr th:only-of-type {\n",
              "        vertical-align: middle;\n",
              "    }\n",
              "\n",
              "    .dataframe tbody tr th {\n",
              "        vertical-align: top;\n",
              "    }\n",
              "\n",
              "    .dataframe thead th {\n",
              "        text-align: right;\n",
              "    }\n",
              "</style>\n",
              "<table border=\"1\" class=\"dataframe\">\n",
              "  <thead>\n",
              "    <tr style=\"text-align: right;\">\n",
              "      <th></th>\n",
              "      <th>Country</th>\n",
              "      <th>Region</th>\n",
              "      <th>Population</th>\n",
              "      <th>Area (sq. mi.)</th>\n",
              "      <th>Pop. Density (per sq. mi.)</th>\n",
              "      <th>Coastline (coast/area ratio)</th>\n",
              "      <th>Net migration</th>\n",
              "      <th>Infant mortality (per 1000 births)</th>\n",
              "      <th>GDP ($ per capita)</th>\n",
              "      <th>Literacy (%)</th>\n",
              "      <th>Phones (per 1000)</th>\n",
              "      <th>Arable (%)</th>\n",
              "      <th>Crops (%)</th>\n",
              "      <th>Other (%)</th>\n",
              "      <th>Climate</th>\n",
              "      <th>Birthrate</th>\n",
              "      <th>Deathrate</th>\n",
              "      <th>Agriculture</th>\n",
              "      <th>Industry</th>\n",
              "      <th>Service</th>\n",
              "    </tr>\n",
              "  </thead>\n",
              "  <tbody>\n",
              "    <tr>\n",
              "      <th>153</th>\n",
              "      <td>N. Mariana Islands</td>\n",
              "      <td>OCEANIA</td>\n",
              "      <td>82459</td>\n",
              "      <td>477</td>\n",
              "      <td>172,9</td>\n",
              "      <td>310,69</td>\n",
              "      <td>9,61</td>\n",
              "      <td>7,11</td>\n",
              "      <td>12500.0</td>\n",
              "      <td>97,0</td>\n",
              "      <td>254,7</td>\n",
              "      <td>13,04</td>\n",
              "      <td>4,35</td>\n",
              "      <td>82,61</td>\n",
              "      <td>2</td>\n",
              "      <td>19,43</td>\n",
              "      <td>2,29</td>\n",
              "      <td>NaN</td>\n",
              "      <td>NaN</td>\n",
              "      <td>NaN</td>\n",
              "    </tr>\n",
              "  </tbody>\n",
              "</table>\n",
              "</div>\n",
              "      <button class=\"colab-df-convert\" onclick=\"convertToInteractive('df-7242211b-2353-4d1a-9fb1-80fe8b401d28')\"\n",
              "              title=\"Convert this dataframe to an interactive table.\"\n",
              "              style=\"display:none;\">\n",
              "        \n",
              "  <svg xmlns=\"http://www.w3.org/2000/svg\" height=\"24px\"viewBox=\"0 0 24 24\"\n",
              "       width=\"24px\">\n",
              "    <path d=\"M0 0h24v24H0V0z\" fill=\"none\"/>\n",
              "    <path d=\"M18.56 5.44l.94 2.06.94-2.06 2.06-.94-2.06-.94-.94-2.06-.94 2.06-2.06.94zm-11 1L8.5 8.5l.94-2.06 2.06-.94-2.06-.94L8.5 2.5l-.94 2.06-2.06.94zm10 10l.94 2.06.94-2.06 2.06-.94-2.06-.94-.94-2.06-.94 2.06-2.06.94z\"/><path d=\"M17.41 7.96l-1.37-1.37c-.4-.4-.92-.59-1.43-.59-.52 0-1.04.2-1.43.59L10.3 9.45l-7.72 7.72c-.78.78-.78 2.05 0 2.83L4 21.41c.39.39.9.59 1.41.59.51 0 1.02-.2 1.41-.59l7.78-7.78 2.81-2.81c.8-.78.8-2.07 0-2.86zM5.41 20L4 18.59l7.72-7.72 1.47 1.35L5.41 20z\"/>\n",
              "  </svg>\n",
              "      </button>\n",
              "      \n",
              "  <style>\n",
              "    .colab-df-container {\n",
              "      display:flex;\n",
              "      flex-wrap:wrap;\n",
              "      gap: 12px;\n",
              "    }\n",
              "\n",
              "    .colab-df-convert {\n",
              "      background-color: #E8F0FE;\n",
              "      border: none;\n",
              "      border-radius: 50%;\n",
              "      cursor: pointer;\n",
              "      display: none;\n",
              "      fill: #1967D2;\n",
              "      height: 32px;\n",
              "      padding: 0 0 0 0;\n",
              "      width: 32px;\n",
              "    }\n",
              "\n",
              "    .colab-df-convert:hover {\n",
              "      background-color: #E2EBFA;\n",
              "      box-shadow: 0px 1px 2px rgba(60, 64, 67, 0.3), 0px 1px 3px 1px rgba(60, 64, 67, 0.15);\n",
              "      fill: #174EA6;\n",
              "    }\n",
              "\n",
              "    [theme=dark] .colab-df-convert {\n",
              "      background-color: #3B4455;\n",
              "      fill: #D2E3FC;\n",
              "    }\n",
              "\n",
              "    [theme=dark] .colab-df-convert:hover {\n",
              "      background-color: #434B5C;\n",
              "      box-shadow: 0px 1px 3px 1px rgba(0, 0, 0, 0.15);\n",
              "      filter: drop-shadow(0px 1px 2px rgba(0, 0, 0, 0.3));\n",
              "      fill: #FFFFFF;\n",
              "    }\n",
              "  </style>\n",
              "\n",
              "      <script>\n",
              "        const buttonEl =\n",
              "          document.querySelector('#df-7242211b-2353-4d1a-9fb1-80fe8b401d28 button.colab-df-convert');\n",
              "        buttonEl.style.display =\n",
              "          google.colab.kernel.accessAllowed ? 'block' : 'none';\n",
              "\n",
              "        async function convertToInteractive(key) {\n",
              "          const element = document.querySelector('#df-7242211b-2353-4d1a-9fb1-80fe8b401d28');\n",
              "          const dataTable =\n",
              "            await google.colab.kernel.invokeFunction('convertToInteractive',\n",
              "                                                     [key], {});\n",
              "          if (!dataTable) return;\n",
              "\n",
              "          const docLinkHtml = 'Like what you see? Visit the ' +\n",
              "            '<a target=\"_blank\" href=https://colab.research.google.com/notebooks/data_table.ipynb>data table notebook</a>'\n",
              "            + ' to learn more about interactive tables.';\n",
              "          element.innerHTML = '';\n",
              "          dataTable['output_type'] = 'display_data';\n",
              "          await google.colab.output.renderOutput(dataTable, element);\n",
              "          const docLink = document.createElement('div');\n",
              "          docLink.innerHTML = docLinkHtml;\n",
              "          element.appendChild(docLink);\n",
              "        }\n",
              "      </script>\n",
              "    </div>\n",
              "  </div>\n",
              "  "
            ]
          },
          "metadata": {},
          "execution_count": 6
        }
      ]
    },
    {
      "cell_type": "code",
      "execution_count": null,
      "metadata": {
        "colab": {
          "base_uri": "https://localhost:8080/"
        },
        "id": "wc-bOjvFObuZ",
        "outputId": "4047bcf8-6c46-4b25-e7a8-b6971427f986"
      },
      "outputs": [
        {
          "output_type": "execute_result",
          "data": {
            "text/plain": [
              "Country                               0.00\n",
              "Region                                0.00\n",
              "Population                            0.00\n",
              "Area (sq. mi.)                        0.00\n",
              "Pop. Density (per sq. mi.)            0.00\n",
              "Coastline (coast/area ratio)          0.00\n",
              "Net migration                         1.32\n",
              "Infant mortality (per 1000 births)    1.32\n",
              "GDP ($ per capita)                    0.44\n",
              "Literacy (%)                          7.93\n",
              "Phones (per 1000)                     1.76\n",
              "Arable (%)                            0.88\n",
              "Crops (%)                             0.88\n",
              "Other (%)                             0.88\n",
              "Climate                               9.69\n",
              "Birthrate                             1.32\n",
              "Deathrate                             1.76\n",
              "Agriculture                           6.61\n",
              "Industry                              7.05\n",
              "Service                               6.61\n",
              "dtype: float64"
            ]
          },
          "metadata": {},
          "execution_count": 7
        }
      ],
      "source": [
        "round(df.isnull().sum(axis=0)*100/df.shape[0],2)"
      ]
    },
    {
      "cell_type": "code",
      "source": [
        "df.duplicated().any()"
      ],
      "metadata": {
        "colab": {
          "base_uri": "https://localhost:8080/"
        },
        "id": "lOK-vnI8YcjG",
        "outputId": "7f140714-5554-4447-9c8d-3ae359c898c3"
      },
      "execution_count": null,
      "outputs": [
        {
          "output_type": "execute_result",
          "data": {
            "text/plain": [
              "False"
            ]
          },
          "metadata": {},
          "execution_count": 8
        }
      ]
    },
    {
      "cell_type": "code",
      "source": [
        "df['Country'].is_unique"
      ],
      "metadata": {
        "colab": {
          "base_uri": "https://localhost:8080/"
        },
        "id": "sDoEXkNeX6PX",
        "outputId": "acf15ebc-b2ed-4992-c156-40a3b5e41a4b"
      },
      "execution_count": null,
      "outputs": [
        {
          "output_type": "execute_result",
          "data": {
            "text/plain": [
              "True"
            ]
          },
          "metadata": {},
          "execution_count": 9
        }
      ]
    },
    {
      "cell_type": "code",
      "source": [
        "# df['Region'].unique().sum()"
      ],
      "metadata": {
        "id": "sW-wHb7CaomP"
      },
      "execution_count": null,
      "outputs": []
    },
    {
      "cell_type": "code",
      "source": [
        "# skewness along the index axis\n",
        "df.skew(axis = 0, skipna = True)"
      ],
      "metadata": {
        "colab": {
          "base_uri": "https://localhost:8080/"
        },
        "id": "HbjAG0nkvhFY",
        "outputId": "63a5c81b-f1fa-4e98-daa8-6452585c5acc"
      },
      "execution_count": null,
      "outputs": [
        {
          "output_type": "execute_result",
          "data": {
            "text/plain": [
              "Population            9.200223\n",
              "Area (sq. mi.)        5.964245\n",
              "GDP ($ per capita)    1.375924\n",
              "dtype: float64"
            ]
          },
          "metadata": {},
          "execution_count": 11
        }
      ]
    },
    {
      "cell_type": "code",
      "execution_count": null,
      "metadata": {
        "colab": {
          "base_uri": "https://localhost:8080/",
          "height": 300
        },
        "id": "yty2GtCsObuZ",
        "outputId": "fa24563c-cbd0-4b8b-ef9e-00a9fc1622c6"
      },
      "outputs": [
        {
          "output_type": "execute_result",
          "data": {
            "text/plain": [
              "         Population  Area (sq. mi.)  GDP ($ per capita)\n",
              "count  2.270000e+02    2.270000e+02          226.000000\n",
              "mean   2.874028e+07    5.982270e+05         9689.823009\n",
              "std    1.178913e+08    1.790282e+06        10049.138513\n",
              "min    7.026000e+03    2.000000e+00          500.000000\n",
              "25%    4.376240e+05    4.647500e+03         1900.000000\n",
              "50%    4.786994e+06    8.660000e+04         5550.000000\n",
              "75%    1.749777e+07    4.418110e+05        15700.000000\n",
              "max    1.313974e+09    1.707520e+07        55100.000000"
            ],
            "text/html": [
              "\n",
              "  <div id=\"df-07144575-e37f-4e2d-8f60-c68fff17111f\">\n",
              "    <div class=\"colab-df-container\">\n",
              "      <div>\n",
              "<style scoped>\n",
              "    .dataframe tbody tr th:only-of-type {\n",
              "        vertical-align: middle;\n",
              "    }\n",
              "\n",
              "    .dataframe tbody tr th {\n",
              "        vertical-align: top;\n",
              "    }\n",
              "\n",
              "    .dataframe thead th {\n",
              "        text-align: right;\n",
              "    }\n",
              "</style>\n",
              "<table border=\"1\" class=\"dataframe\">\n",
              "  <thead>\n",
              "    <tr style=\"text-align: right;\">\n",
              "      <th></th>\n",
              "      <th>Population</th>\n",
              "      <th>Area (sq. mi.)</th>\n",
              "      <th>GDP ($ per capita)</th>\n",
              "    </tr>\n",
              "  </thead>\n",
              "  <tbody>\n",
              "    <tr>\n",
              "      <th>count</th>\n",
              "      <td>2.270000e+02</td>\n",
              "      <td>2.270000e+02</td>\n",
              "      <td>226.000000</td>\n",
              "    </tr>\n",
              "    <tr>\n",
              "      <th>mean</th>\n",
              "      <td>2.874028e+07</td>\n",
              "      <td>5.982270e+05</td>\n",
              "      <td>9689.823009</td>\n",
              "    </tr>\n",
              "    <tr>\n",
              "      <th>std</th>\n",
              "      <td>1.178913e+08</td>\n",
              "      <td>1.790282e+06</td>\n",
              "      <td>10049.138513</td>\n",
              "    </tr>\n",
              "    <tr>\n",
              "      <th>min</th>\n",
              "      <td>7.026000e+03</td>\n",
              "      <td>2.000000e+00</td>\n",
              "      <td>500.000000</td>\n",
              "    </tr>\n",
              "    <tr>\n",
              "      <th>25%</th>\n",
              "      <td>4.376240e+05</td>\n",
              "      <td>4.647500e+03</td>\n",
              "      <td>1900.000000</td>\n",
              "    </tr>\n",
              "    <tr>\n",
              "      <th>50%</th>\n",
              "      <td>4.786994e+06</td>\n",
              "      <td>8.660000e+04</td>\n",
              "      <td>5550.000000</td>\n",
              "    </tr>\n",
              "    <tr>\n",
              "      <th>75%</th>\n",
              "      <td>1.749777e+07</td>\n",
              "      <td>4.418110e+05</td>\n",
              "      <td>15700.000000</td>\n",
              "    </tr>\n",
              "    <tr>\n",
              "      <th>max</th>\n",
              "      <td>1.313974e+09</td>\n",
              "      <td>1.707520e+07</td>\n",
              "      <td>55100.000000</td>\n",
              "    </tr>\n",
              "  </tbody>\n",
              "</table>\n",
              "</div>\n",
              "      <button class=\"colab-df-convert\" onclick=\"convertToInteractive('df-07144575-e37f-4e2d-8f60-c68fff17111f')\"\n",
              "              title=\"Convert this dataframe to an interactive table.\"\n",
              "              style=\"display:none;\">\n",
              "        \n",
              "  <svg xmlns=\"http://www.w3.org/2000/svg\" height=\"24px\"viewBox=\"0 0 24 24\"\n",
              "       width=\"24px\">\n",
              "    <path d=\"M0 0h24v24H0V0z\" fill=\"none\"/>\n",
              "    <path d=\"M18.56 5.44l.94 2.06.94-2.06 2.06-.94-2.06-.94-.94-2.06-.94 2.06-2.06.94zm-11 1L8.5 8.5l.94-2.06 2.06-.94-2.06-.94L8.5 2.5l-.94 2.06-2.06.94zm10 10l.94 2.06.94-2.06 2.06-.94-2.06-.94-.94-2.06-.94 2.06-2.06.94z\"/><path d=\"M17.41 7.96l-1.37-1.37c-.4-.4-.92-.59-1.43-.59-.52 0-1.04.2-1.43.59L10.3 9.45l-7.72 7.72c-.78.78-.78 2.05 0 2.83L4 21.41c.39.39.9.59 1.41.59.51 0 1.02-.2 1.41-.59l7.78-7.78 2.81-2.81c.8-.78.8-2.07 0-2.86zM5.41 20L4 18.59l7.72-7.72 1.47 1.35L5.41 20z\"/>\n",
              "  </svg>\n",
              "      </button>\n",
              "      \n",
              "  <style>\n",
              "    .colab-df-container {\n",
              "      display:flex;\n",
              "      flex-wrap:wrap;\n",
              "      gap: 12px;\n",
              "    }\n",
              "\n",
              "    .colab-df-convert {\n",
              "      background-color: #E8F0FE;\n",
              "      border: none;\n",
              "      border-radius: 50%;\n",
              "      cursor: pointer;\n",
              "      display: none;\n",
              "      fill: #1967D2;\n",
              "      height: 32px;\n",
              "      padding: 0 0 0 0;\n",
              "      width: 32px;\n",
              "    }\n",
              "\n",
              "    .colab-df-convert:hover {\n",
              "      background-color: #E2EBFA;\n",
              "      box-shadow: 0px 1px 2px rgba(60, 64, 67, 0.3), 0px 1px 3px 1px rgba(60, 64, 67, 0.15);\n",
              "      fill: #174EA6;\n",
              "    }\n",
              "\n",
              "    [theme=dark] .colab-df-convert {\n",
              "      background-color: #3B4455;\n",
              "      fill: #D2E3FC;\n",
              "    }\n",
              "\n",
              "    [theme=dark] .colab-df-convert:hover {\n",
              "      background-color: #434B5C;\n",
              "      box-shadow: 0px 1px 3px 1px rgba(0, 0, 0, 0.15);\n",
              "      filter: drop-shadow(0px 1px 2px rgba(0, 0, 0, 0.3));\n",
              "      fill: #FFFFFF;\n",
              "    }\n",
              "  </style>\n",
              "\n",
              "      <script>\n",
              "        const buttonEl =\n",
              "          document.querySelector('#df-07144575-e37f-4e2d-8f60-c68fff17111f button.colab-df-convert');\n",
              "        buttonEl.style.display =\n",
              "          google.colab.kernel.accessAllowed ? 'block' : 'none';\n",
              "\n",
              "        async function convertToInteractive(key) {\n",
              "          const element = document.querySelector('#df-07144575-e37f-4e2d-8f60-c68fff17111f');\n",
              "          const dataTable =\n",
              "            await google.colab.kernel.invokeFunction('convertToInteractive',\n",
              "                                                     [key], {});\n",
              "          if (!dataTable) return;\n",
              "\n",
              "          const docLinkHtml = 'Like what you see? Visit the ' +\n",
              "            '<a target=\"_blank\" href=https://colab.research.google.com/notebooks/data_table.ipynb>data table notebook</a>'\n",
              "            + ' to learn more about interactive tables.';\n",
              "          element.innerHTML = '';\n",
              "          dataTable['output_type'] = 'display_data';\n",
              "          await google.colab.output.renderOutput(dataTable, element);\n",
              "          const docLink = document.createElement('div');\n",
              "          docLink.innerHTML = docLinkHtml;\n",
              "          element.appendChild(docLink);\n",
              "        }\n",
              "      </script>\n",
              "    </div>\n",
              "  </div>\n",
              "  "
            ]
          },
          "metadata": {},
          "execution_count": 12
        }
      ],
      "source": [
        "# This will print basic statistics for numerical columns\n",
        "df.describe()"
      ]
    },
    {
      "cell_type": "code",
      "source": [
        "# import matplotlib.pyplot as plt\n",
        "# plt.matshow(df.corr())\n",
        "# plt.show()"
      ],
      "metadata": {
        "id": "HfsiUaNFWBBS"
      },
      "execution_count": null,
      "outputs": []
    },
    {
      "cell_type": "code",
      "source": [
        "import seaborn as sns\n",
        "sns.displot(df, x=\"Population\")"
      ],
      "metadata": {
        "colab": {
          "base_uri": "https://localhost:8080/",
          "height": 386
        },
        "id": "yJ-qowaMwK9-",
        "outputId": "7b49f953-adec-4e05-dff0-7e9f12394751"
      },
      "execution_count": null,
      "outputs": [
        {
          "output_type": "execute_result",
          "data": {
            "text/plain": [
              "<seaborn.axisgrid.FacetGrid at 0x7f046aaeaad0>"
            ]
          },
          "metadata": {},
          "execution_count": 15
        },
        {
          "output_type": "display_data",
          "data": {
            "text/plain": [
              "<Figure size 360x360 with 1 Axes>"
            ],
            "image/png": "[encoded data removed]"
          },
          "metadata": {
            "needs_background": "light"
          }
        }
      ]
    },
    {
      "cell_type": "markdown",
      "metadata": {
        "id": "sHOD4U95Obua"
      },
      "source": [
        "## 3. <a name=\"3\">Data preprocessing</a>\n",
        "(<a href=\"#0\">Go to top</a>)\n"
      ]
    },
    {
      "cell_type": "markdown",
      "metadata": {
        "id": "DMSgypGoObua"
      },
      "source": [
        "### Define below all the issues that you had found in the previous part\n",
        "1-  drop un important feature         <br>\n",
        "2- change data type     <br>\n",
        "3-  null values     <br>"
      ]
    },
    {
      "cell_type": "code",
      "execution_count": null,
      "metadata": {
        "id": "aaNvWhb4Obub"
      },
      "outputs": [],
      "source": [
        "#make a copy for the original dataset\n",
        "df_copy=df.copy()"
      ]
    },
    {
      "cell_type": "markdown",
      "metadata": {
        "id": "-TdQU0QTObub"
      },
      "source": [
        "### for each issue adapt this methodology \n",
        "- start by defining the solution\n",
        "- apply this solution onn the data\n",
        "- test the solution to make sure that you have solved the issue"
      ]
    },
    {
      "cell_type": "markdown",
      "metadata": {
        "id": "YMk6ULNrObuc"
      },
      "source": [
        "**First issue**"
      ]
    },
    {
      "cell_type": "code",
      "execution_count": null,
      "metadata": {
        "id": "Zu91435kObud"
      },
      "outputs": [],
      "source": [
        "#solution \n",
        "df_copy = df_copy.drop(columns=['Country',\t'Region'])"
      ]
    },
    {
      "cell_type": "code",
      "execution_count": null,
      "metadata": {
        "colab": {
          "base_uri": "https://localhost:8080/",
          "height": 339
        },
        "id": "BwpQsWKeObue",
        "outputId": "20f38a4d-1334-4519-9ecd-21acbe897225"
      },
      "outputs": [
        {
          "output_type": "execute_result",
          "data": {
            "text/plain": [
              "   Population  Area (sq. mi.) Pop. Density (per sq. mi.)  \\\n",
              "0    31056997          647500                       48,0   \n",
              "1     3581655           28748                      124,6   \n",
              "2    32930091         2381740                       13,8   \n",
              "3       57794             199                      290,4   \n",
              "4       71201             468                      152,1   \n",
              "\n",
              "  Coastline (coast/area ratio) Net migration  \\\n",
              "0                         0,00         23,06   \n",
              "1                         1,26         -4,93   \n",
              "2                         0,04         -0,39   \n",
              "3                        58,29        -20,71   \n",
              "4                         0,00           6,6   \n",
              "\n",
              "  Infant mortality (per 1000 births)  GDP ($ per capita) Literacy (%)  \\\n",
              "0                             163,07               700.0         36,0   \n",
              "1                              21,52              4500.0         86,5   \n",
              "2                                 31              6000.0         70,0   \n",
              "3                               9,27              8000.0         97,0   \n",
              "4                               4,05             19000.0        100,0   \n",
              "\n",
              "  Phones (per 1000) Arable (%) Crops (%) Other (%) Climate Birthrate  \\\n",
              "0               3,2      12,13      0,22     87,65       1      46,6   \n",
              "1              71,2      21,09      4,42     74,49       3     15,11   \n",
              "2              78,1       3,22      0,25     96,53       1     17,14   \n",
              "3             259,5         10        15        75       2     22,46   \n",
              "4             497,2       2,22         0     97,78       3      8,71   \n",
              "\n",
              "  Deathrate Agriculture Industry Service  \n",
              "0     20,34        0,38     0,24    0,38  \n",
              "1      5,22       0,232    0,188   0,579  \n",
              "2      4,61       0,101      0,6   0,298  \n",
              "3      3,27         NaN      NaN     NaN  \n",
              "4      6,25         NaN      NaN     NaN  "
            ],
            "text/html": [
              "\n",
              "  <div id=\"df-4f6f3b7d-32a9-4ab3-be50-42e28ebdf570\">\n",
              "    <div class=\"colab-df-container\">\n",
              "      <div>\n",
              "<style scoped>\n",
              "    .dataframe tbody tr th:only-of-type {\n",
              "        vertical-align: middle;\n",
              "    }\n",
              "\n",
              "    .dataframe tbody tr th {\n",
              "        vertical-align: top;\n",
              "    }\n",
              "\n",
              "    .dataframe thead th {\n",
              "        text-align: right;\n",
              "    }\n",
              "</style>\n",
              "<table border=\"1\" class=\"dataframe\">\n",
              "  <thead>\n",
              "    <tr style=\"text-align: right;\">\n",
              "      <th></th>\n",
              "      <th>Population</th>\n",
              "      <th>Area (sq. mi.)</th>\n",
              "      <th>Pop. Density (per sq. mi.)</th>\n",
              "      <th>Coastline (coast/area ratio)</th>\n",
              "      <th>Net migration</th>\n",
              "      <th>Infant mortality (per 1000 births)</th>\n",
              "      <th>GDP ($ per capita)</th>\n",
              "      <th>Literacy (%)</th>\n",
              "      <th>Phones (per 1000)</th>\n",
              "      <th>Arable (%)</th>\n",
              "      <th>Crops (%)</th>\n",
              "      <th>Other (%)</th>\n",
              "      <th>Climate</th>\n",
              "      <th>Birthrate</th>\n",
              "      <th>Deathrate</th>\n",
              "      <th>Agriculture</th>\n",
              "      <th>Industry</th>\n",
              "      <th>Service</th>\n",
              "    </tr>\n",
              "  </thead>\n",
              "  <tbody>\n",
              "    <tr>\n",
              "      <th>0</th>\n",
              "      <td>31056997</td>\n",
              "      <td>647500</td>\n",
              "      <td>48,0</td>\n",
              "      <td>0,00</td>\n",
              "      <td>23,06</td>\n",
              "      <td>163,07</td>\n",
              "      <td>700.0</td>\n",
              "      <td>36,0</td>\n",
              "      <td>3,2</td>\n",
              "      <td>12,13</td>\n",
              "      <td>0,22</td>\n",
              "      <td>87,65</td>\n",
              "      <td>1</td>\n",
              "      <td>46,6</td>\n",
              "      <td>20,34</td>\n",
              "      <td>0,38</td>\n",
              "      <td>0,24</td>\n",
              "      <td>0,38</td>\n",
              "    </tr>\n",
              "    <tr>\n",
              "      <th>1</th>\n",
              "      <td>3581655</td>\n",
              "      <td>28748</td>\n",
              "      <td>124,6</td>\n",
              "      <td>1,26</td>\n",
              "      <td>-4,93</td>\n",
              "      <td>21,52</td>\n",
              "      <td>4500.0</td>\n",
              "      <td>86,5</td>\n",
              "      <td>71,2</td>\n",
              "      <td>21,09</td>\n",
              "      <td>4,42</td>\n",
              "      <td>74,49</td>\n",
              "      <td>3</td>\n",
              "      <td>15,11</td>\n",
              "      <td>5,22</td>\n",
              "      <td>0,232</td>\n",
              "      <td>0,188</td>\n",
              "      <td>0,579</td>\n",
              "    </tr>\n",
              "    <tr>\n",
              "      <th>2</th>\n",
              "      <td>32930091</td>\n",
              "      <td>2381740</td>\n",
              "      <td>13,8</td>\n",
              "      <td>0,04</td>\n",
              "      <td>-0,39</td>\n",
              "      <td>31</td>\n",
              "      <td>6000.0</td>\n",
              "      <td>70,0</td>\n",
              "      <td>78,1</td>\n",
              "      <td>3,22</td>\n",
              "      <td>0,25</td>\n",
              "      <td>96,53</td>\n",
              "      <td>1</td>\n",
              "      <td>17,14</td>\n",
              "      <td>4,61</td>\n",
              "      <td>0,101</td>\n",
              "      <td>0,6</td>\n",
              "      <td>0,298</td>\n",
              "    </tr>\n",
              "    <tr>\n",
              "      <th>3</th>\n",
              "      <td>57794</td>\n",
              "      <td>199</td>\n",
              "      <td>290,4</td>\n",
              "      <td>58,29</td>\n",
              "      <td>-20,71</td>\n",
              "      <td>9,27</td>\n",
              "      <td>8000.0</td>\n",
              "      <td>97,0</td>\n",
              "      <td>259,5</td>\n",
              "      <td>10</td>\n",
              "      <td>15</td>\n",
              "      <td>75</td>\n",
              "      <td>2</td>\n",
              "      <td>22,46</td>\n",
              "      <td>3,27</td>\n",
              "      <td>NaN</td>\n",
              "      <td>NaN</td>\n",
              "      <td>NaN</td>\n",
              "    </tr>\n",
              "    <tr>\n",
              "      <th>4</th>\n",
              "      <td>71201</td>\n",
              "      <td>468</td>\n",
              "      <td>152,1</td>\n",
              "      <td>0,00</td>\n",
              "      <td>6,6</td>\n",
              "      <td>4,05</td>\n",
              "      <td>19000.0</td>\n",
              "      <td>100,0</td>\n",
              "      <td>497,2</td>\n",
              "      <td>2,22</td>\n",
              "      <td>0</td>\n",
              "      <td>97,78</td>\n",
              "      <td>3</td>\n",
              "      <td>8,71</td>\n",
              "      <td>6,25</td>\n",
              "      <td>NaN</td>\n",
              "      <td>NaN</td>\n",
              "      <td>NaN</td>\n",
              "    </tr>\n",
              "  </tbody>\n",
              "</table>\n",
              "</div>\n",
              "      <button class=\"colab-df-convert\" onclick=\"convertToInteractive('df-4f6f3b7d-32a9-4ab3-be50-42e28ebdf570')\"\n",
              "              title=\"Convert this dataframe to an interactive table.\"\n",
              "              style=\"display:none;\">\n",
              "        \n",
              "  <svg xmlns=\"http://www.w3.org/2000/svg\" height=\"24px\"viewBox=\"0 0 24 24\"\n",
              "       width=\"24px\">\n",
              "    <path d=\"M0 0h24v24H0V0z\" fill=\"none\"/>\n",
              "    <path d=\"M18.56 5.44l.94 2.06.94-2.06 2.06-.94-2.06-.94-.94-2.06-.94 2.06-2.06.94zm-11 1L8.5 8.5l.94-2.06 2.06-.94-2.06-.94L8.5 2.5l-.94 2.06-2.06.94zm10 10l.94 2.06.94-2.06 2.06-.94-2.06-.94-.94-2.06-.94 2.06-2.06.94z\"/><path d=\"M17.41 7.96l-1.37-1.37c-.4-.4-.92-.59-1.43-.59-.52 0-1.04.2-1.43.59L10.3 9.45l-7.72 7.72c-.78.78-.78 2.05 0 2.83L4 21.41c.39.39.9.59 1.41.59.51 0 1.02-.2 1.41-.59l7.78-7.78 2.81-2.81c.8-.78.8-2.07 0-2.86zM5.41 20L4 18.59l7.72-7.72 1.47 1.35L5.41 20z\"/>\n",
              "  </svg>\n",
              "      </button>\n",
              "      \n",
              "  <style>\n",
              "    .colab-df-container {\n",
              "      display:flex;\n",
              "      flex-wrap:wrap;\n",
              "      gap: 12px;\n",
              "    }\n",
              "\n",
              "    .colab-df-convert {\n",
              "      background-color: #E8F0FE;\n",
              "      border: none;\n",
              "      border-radius: 50%;\n",
              "      cursor: pointer;\n",
              "      display: none;\n",
              "      fill: #1967D2;\n",
              "      height: 32px;\n",
              "      padding: 0 0 0 0;\n",
              "      width: 32px;\n",
              "    }\n",
              "\n",
              "    .colab-df-convert:hover {\n",
              "      background-color: #E2EBFA;\n",
              "      box-shadow: 0px 1px 2px rgba(60, 64, 67, 0.3), 0px 1px 3px 1px rgba(60, 64, 67, 0.15);\n",
              "      fill: #174EA6;\n",
              "    }\n",
              "\n",
              "    [theme=dark] .colab-df-convert {\n",
              "      background-color: #3B4455;\n",
              "      fill: #D2E3FC;\n",
              "    }\n",
              "\n",
              "    [theme=dark] .colab-df-convert:hover {\n",
              "      background-color: #434B5C;\n",
              "      box-shadow: 0px 1px 3px 1px rgba(0, 0, 0, 0.15);\n",
              "      filter: drop-shadow(0px 1px 2px rgba(0, 0, 0, 0.3));\n",
              "      fill: #FFFFFF;\n",
              "    }\n",
              "  </style>\n",
              "\n",
              "      <script>\n",
              "        const buttonEl =\n",
              "          document.querySelector('#df-4f6f3b7d-32a9-4ab3-be50-42e28ebdf570 button.colab-df-convert');\n",
              "        buttonEl.style.display =\n",
              "          google.colab.kernel.accessAllowed ? 'block' : 'none';\n",
              "\n",
              "        async function convertToInteractive(key) {\n",
              "          const element = document.querySelector('#df-4f6f3b7d-32a9-4ab3-be50-42e28ebdf570');\n",
              "          const dataTable =\n",
              "            await google.colab.kernel.invokeFunction('convertToInteractive',\n",
              "                                                     [key], {});\n",
              "          if (!dataTable) return;\n",
              "\n",
              "          const docLinkHtml = 'Like what you see? Visit the ' +\n",
              "            '<a target=\"_blank\" href=https://colab.research.google.com/notebooks/data_table.ipynb>data table notebook</a>'\n",
              "            + ' to learn more about interactive tables.';\n",
              "          element.innerHTML = '';\n",
              "          dataTable['output_type'] = 'display_data';\n",
              "          await google.colab.output.renderOutput(dataTable, element);\n",
              "          const docLink = document.createElement('div');\n",
              "          docLink.innerHTML = docLinkHtml;\n",
              "          element.appendChild(docLink);\n",
              "        }\n",
              "      </script>\n",
              "    </div>\n",
              "  </div>\n",
              "  "
            ]
          },
          "metadata": {},
          "execution_count": 18
        }
      ],
      "source": [
        "#test \n",
        "df_copy.head()"
      ]
    },
    {
      "cell_type": "markdown",
      "metadata": {
        "id": "-yRxb7KWObud"
      },
      "source": [
        "**Second issue**"
      ]
    },
    {
      "cell_type": "code",
      "execution_count": null,
      "metadata": {
        "id": "9HCT3eQoObue"
      },
      "outputs": [],
      "source": [
        "#solution \n",
        "for i in df_copy.columns:\n",
        "  if i in ['Population',\t'Area (sq. mi.)', 'GDP ($ per capita)'] :\n",
        "    pass\n",
        "  else: \n",
        "   df_copy[i] = df_copy[i].astype(str).str.replace(',' , '.')\n",
        "   df_copy[i] =  df_copy[i].astype('float64')"
      ]
    },
    {
      "cell_type": "code",
      "execution_count": null,
      "metadata": {
        "colab": {
          "base_uri": "https://localhost:8080/"
        },
        "id": "Ggq_4uIVObue",
        "outputId": "0a5bb95e-027f-4da5-cb1b-f96cb3eb75e0"
      },
      "outputs": [
        {
          "output_type": "stream",
          "name": "stdout",
          "text": [
            "<class 'pandas.core.frame.DataFrame'>\n",
            "RangeIndex: 227 entries, 0 to 226\n",
            "Data columns (total 18 columns):\n",
            " #   Column                              Non-Null Count  Dtype  \n",
            "---  ------                              --------------  -----  \n",
            " 0   Population                          227 non-null    int64  \n",
            " 1   Area (sq. mi.)                      227 non-null    int64  \n",
            " 2   Pop. Density (per sq. mi.)          227 non-null    float64\n",
            " 3   Coastline (coast/area ratio)        227 non-null    float64\n",
            " 4   Net migration                       224 non-null    float64\n",
            " 5   Infant mortality (per 1000 births)  224 non-null    float64\n",
            " 6   GDP ($ per capita)                  226 non-null    float64\n",
            " 7   Literacy (%)                        209 non-null    float64\n",
            " 8   Phones (per 1000)                   223 non-null    float64\n",
            " 9   Arable (%)                          225 non-null    float64\n",
            " 10  Crops (%)                           225 non-null    float64\n",
            " 11  Other (%)                           225 non-null    float64\n",
            " 12  Climate                             205 non-null    float64\n",
            " 13  Birthrate                           224 non-null    float64\n",
            " 14  Deathrate                           223 non-null    float64\n",
            " 15  Agriculture                         212 non-null    float64\n",
            " 16  Industry                            211 non-null    float64\n",
            " 17  Service                             212 non-null    float64\n",
            "dtypes: float64(16), int64(2)\n",
            "memory usage: 32.0 KB\n"
          ]
        }
      ],
      "source": [
        "##test\n",
        "df_copy.info()"
      ]
    },
    {
      "cell_type": "code",
      "execution_count": null,
      "metadata": {
        "id": "t_Ct23xKObuc"
      },
      "outputs": [],
      "source": [
        "#solution \n",
        "df_copy_na = df_copy.fillna(df_copy.mean())"
      ]
    },
    {
      "cell_type": "code",
      "execution_count": null,
      "metadata": {
        "colab": {
          "base_uri": "https://localhost:8080/",
          "height": 496
        },
        "id": "4Ou0lm-nObuc",
        "outputId": "86b37009-60e8-4fd2-af35-27d4b4bf1282"
      },
      "outputs": [
        {
          "output_type": "execute_result",
          "data": {
            "text/plain": [
              "   Population  Area (sq. mi.)  Pop. Density (per sq. mi.)  \\\n",
              "0    31056997          647500                        48.0   \n",
              "1     3581655           28748                       124.6   \n",
              "2    32930091         2381740                        13.8   \n",
              "3       57794             199                       290.4   \n",
              "4       71201             468                       152.1   \n",
              "5    12127071         1246700                         9.7   \n",
              "6       13477             102                       132.1   \n",
              "7       69108             443                       156.0   \n",
              "8    39921833         2766890                        14.4   \n",
              "9     2976372           29800                        99.9   \n",
              "\n",
              "   Coastline (coast/area ratio)  Net migration  \\\n",
              "0                          0.00          23.06   \n",
              "1                          1.26          -4.93   \n",
              "2                          0.04          -0.39   \n",
              "3                         58.29         -20.71   \n",
              "4                          0.00           6.60   \n",
              "5                          0.13           0.00   \n",
              "6                         59.80          10.76   \n",
              "7                         34.54          -6.15   \n",
              "8                          0.18           0.61   \n",
              "9                          0.00          -6.47   \n",
              "\n",
              "   Infant mortality (per 1000 births)  GDP ($ per capita)  Literacy (%)  \\\n",
              "0                              163.07               700.0          36.0   \n",
              "1                               21.52              4500.0          86.5   \n",
              "2                               31.00              6000.0          70.0   \n",
              "3                                9.27              8000.0          97.0   \n",
              "4                                4.05             19000.0         100.0   \n",
              "5                              191.19              1900.0          42.0   \n",
              "6                               21.03              8600.0          95.0   \n",
              "7                               19.46             11000.0          89.0   \n",
              "8                               15.18             11200.0          97.1   \n",
              "9                               23.28              3500.0          98.6   \n",
              "\n",
              "   Phones (per 1000)  Arable (%)  Crops (%)  Other (%)   Climate  Birthrate  \\\n",
              "0                3.2       12.13       0.22      87.65  1.000000      46.60   \n",
              "1               71.2       21.09       4.42      74.49  3.000000      15.11   \n",
              "2               78.1        3.22       0.25      96.53  1.000000      17.14   \n",
              "3              259.5       10.00      15.00      75.00  2.000000      22.46   \n",
              "4              497.2        2.22       0.00      97.78  3.000000       8.71   \n",
              "5                7.8        2.41       0.24      97.35  2.139024      45.11   \n",
              "6              460.0        0.00       0.00     100.00  2.000000      14.17   \n",
              "7              549.9       18.18       4.55      77.27  2.000000      16.93   \n",
              "8              220.4       12.31       0.48      87.21  3.000000      16.73   \n",
              "9              195.7       17.55       2.30      80.15  4.000000      12.07   \n",
              "\n",
              "   Deathrate  Agriculture  Industry   Service  \n",
              "0      20.34     0.380000  0.240000  0.380000  \n",
              "1       5.22     0.232000  0.188000  0.579000  \n",
              "2       4.61     0.101000  0.600000  0.298000  \n",
              "3       3.27     0.150844  0.282711  0.565283  \n",
              "4       6.25     0.150844  0.282711  0.565283  \n",
              "5      24.20     0.096000  0.658000  0.246000  \n",
              "6       5.34     0.040000  0.180000  0.780000  \n",
              "7       5.37     0.038000  0.220000  0.743000  \n",
              "8       7.55     0.095000  0.358000  0.547000  \n",
              "9       8.23     0.239000  0.343000  0.418000  "
            ],
            "text/html": [
              "\n",
              "  <div id=\"df-fd7fde44-e8ec-4aac-8ec8-d284d1a6f30a\">\n",
              "    <div class=\"colab-df-container\">\n",
              "      <div>\n",
              "<style scoped>\n",
              "    .dataframe tbody tr th:only-of-type {\n",
              "        vertical-align: middle;\n",
              "    }\n",
              "\n",
              "    .dataframe tbody tr th {\n",
              "        vertical-align: top;\n",
              "    }\n",
              "\n",
              "    .dataframe thead th {\n",
              "        text-align: right;\n",
              "    }\n",
              "</style>\n",
              "<table border=\"1\" class=\"dataframe\">\n",
              "  <thead>\n",
              "    <tr style=\"text-align: right;\">\n",
              "      <th></th>\n",
              "      <th>Population</th>\n",
              "      <th>Area (sq. mi.)</th>\n",
              "      <th>Pop. Density (per sq. mi.)</th>\n",
              "      <th>Coastline (coast/area ratio)</th>\n",
              "      <th>Net migration</th>\n",
              "      <th>Infant mortality (per 1000 births)</th>\n",
              "      <th>GDP ($ per capita)</th>\n",
              "      <th>Literacy (%)</th>\n",
              "      <th>Phones (per 1000)</th>\n",
              "      <th>Arable (%)</th>\n",
              "      <th>Crops (%)</th>\n",
              "      <th>Other (%)</th>\n",
              "      <th>Climate</th>\n",
              "      <th>Birthrate</th>\n",
              "      <th>Deathrate</th>\n",
              "      <th>Agriculture</th>\n",
              "      <th>Industry</th>\n",
              "      <th>Service</th>\n",
              "    </tr>\n",
              "  </thead>\n",
              "  <tbody>\n",
              "    <tr>\n",
              "      <th>0</th>\n",
              "      <td>31056997</td>\n",
              "      <td>647500</td>\n",
              "      <td>48.0</td>\n",
              "      <td>0.00</td>\n",
              "      <td>23.06</td>\n",
              "      <td>163.07</td>\n",
              "      <td>700.0</td>\n",
              "      <td>36.0</td>\n",
              "      <td>3.2</td>\n",
              "      <td>12.13</td>\n",
              "      <td>0.22</td>\n",
              "      <td>87.65</td>\n",
              "      <td>1.000000</td>\n",
              "      <td>46.60</td>\n",
              "      <td>20.34</td>\n",
              "      <td>0.380000</td>\n",
              "      <td>0.240000</td>\n",
              "      <td>0.380000</td>\n",
              "    </tr>\n",
              "    <tr>\n",
              "      <th>1</th>\n",
              "      <td>3581655</td>\n",
              "      <td>28748</td>\n",
              "      <td>124.6</td>\n",
              "      <td>1.26</td>\n",
              "      <td>-4.93</td>\n",
              "      <td>21.52</td>\n",
              "      <td>4500.0</td>\n",
              "      <td>86.5</td>\n",
              "      <td>71.2</td>\n",
              "      <td>21.09</td>\n",
              "      <td>4.42</td>\n",
              "      <td>74.49</td>\n",
              "      <td>3.000000</td>\n",
              "      <td>15.11</td>\n",
              "      <td>5.22</td>\n",
              "      <td>0.232000</td>\n",
              "      <td>0.188000</td>\n",
              "      <td>0.579000</td>\n",
              "    </tr>\n",
              "    <tr>\n",
              "      <th>2</th>\n",
              "      <td>32930091</td>\n",
              "      <td>2381740</td>\n",
              "      <td>13.8</td>\n",
              "      <td>0.04</td>\n",
              "      <td>-0.39</td>\n",
              "      <td>31.00</td>\n",
              "      <td>6000.0</td>\n",
              "      <td>70.0</td>\n",
              "      <td>78.1</td>\n",
              "      <td>3.22</td>\n",
              "      <td>0.25</td>\n",
              "      <td>96.53</td>\n",
              "      <td>1.000000</td>\n",
              "      <td>17.14</td>\n",
              "      <td>4.61</td>\n",
              "      <td>0.101000</td>\n",
              "      <td>0.600000</td>\n",
              "      <td>0.298000</td>\n",
              "    </tr>\n",
              "    <tr>\n",
              "      <th>3</th>\n",
              "      <td>57794</td>\n",
              "      <td>199</td>\n",
              "      <td>290.4</td>\n",
              "      <td>58.29</td>\n",
              "      <td>-20.71</td>\n",
              "      <td>9.27</td>\n",
              "      <td>8000.0</td>\n",
              "      <td>97.0</td>\n",
              "      <td>259.5</td>\n",
              "      <td>10.00</td>\n",
              "      <td>15.00</td>\n",
              "      <td>75.00</td>\n",
              "      <td>2.000000</td>\n",
              "      <td>22.46</td>\n",
              "      <td>3.27</td>\n",
              "      <td>0.150844</td>\n",
              "      <td>0.282711</td>\n",
              "      <td>0.565283</td>\n",
              "    </tr>\n",
              "    <tr>\n",
              "      <th>4</th>\n",
              "      <td>71201</td>\n",
              "      <td>468</td>\n",
              "      <td>152.1</td>\n",
              "      <td>0.00</td>\n",
              "      <td>6.60</td>\n",
              "      <td>4.05</td>\n",
              "      <td>19000.0</td>\n",
              "      <td>100.0</td>\n",
              "      <td>497.2</td>\n",
              "      <td>2.22</td>\n",
              "      <td>0.00</td>\n",
              "      <td>97.78</td>\n",
              "      <td>3.000000</td>\n",
              "      <td>8.71</td>\n",
              "      <td>6.25</td>\n",
              "      <td>0.150844</td>\n",
              "      <td>0.282711</td>\n",
              "      <td>0.565283</td>\n",
              "    </tr>\n",
              "    <tr>\n",
              "      <th>5</th>\n",
              "      <td>12127071</td>\n",
              "      <td>1246700</td>\n",
              "      <td>9.7</td>\n",
              "      <td>0.13</td>\n",
              "      <td>0.00</td>\n",
              "      <td>191.19</td>\n",
              "      <td>1900.0</td>\n",
              "      <td>42.0</td>\n",
              "      <td>7.8</td>\n",
              "      <td>2.41</td>\n",
              "      <td>0.24</td>\n",
              "      <td>97.35</td>\n",
              "      <td>2.139024</td>\n",
              "      <td>45.11</td>\n",
              "      <td>24.20</td>\n",
              "      <td>0.096000</td>\n",
              "      <td>0.658000</td>\n",
              "      <td>0.246000</td>\n",
              "    </tr>\n",
              "    <tr>\n",
              "      <th>6</th>\n",
              "      <td>13477</td>\n",
              "      <td>102</td>\n",
              "      <td>132.1</td>\n",
              "      <td>59.80</td>\n",
              "      <td>10.76</td>\n",
              "      <td>21.03</td>\n",
              "      <td>8600.0</td>\n",
              "      <td>95.0</td>\n",
              "      <td>460.0</td>\n",
              "      <td>0.00</td>\n",
              "      <td>0.00</td>\n",
              "      <td>100.00</td>\n",
              "      <td>2.000000</td>\n",
              "      <td>14.17</td>\n",
              "      <td>5.34</td>\n",
              "      <td>0.040000</td>\n",
              "      <td>0.180000</td>\n",
              "      <td>0.780000</td>\n",
              "    </tr>\n",
              "    <tr>\n",
              "      <th>7</th>\n",
              "      <td>69108</td>\n",
              "      <td>443</td>\n",
              "      <td>156.0</td>\n",
              "      <td>34.54</td>\n",
              "      <td>-6.15</td>\n",
              "      <td>19.46</td>\n",
              "      <td>11000.0</td>\n",
              "      <td>89.0</td>\n",
              "      <td>549.9</td>\n",
              "      <td>18.18</td>\n",
              "      <td>4.55</td>\n",
              "      <td>77.27</td>\n",
              "      <td>2.000000</td>\n",
              "      <td>16.93</td>\n",
              "      <td>5.37</td>\n",
              "      <td>0.038000</td>\n",
              "      <td>0.220000</td>\n",
              "      <td>0.743000</td>\n",
              "    </tr>\n",
              "    <tr>\n",
              "      <th>8</th>\n",
              "      <td>39921833</td>\n",
              "      <td>2766890</td>\n",
              "      <td>14.4</td>\n",
              "      <td>0.18</td>\n",
              "      <td>0.61</td>\n",
              "      <td>15.18</td>\n",
              "      <td>11200.0</td>\n",
              "      <td>97.1</td>\n",
              "      <td>220.4</td>\n",
              "      <td>12.31</td>\n",
              "      <td>0.48</td>\n",
              "      <td>87.21</td>\n",
              "      <td>3.000000</td>\n",
              "      <td>16.73</td>\n",
              "      <td>7.55</td>\n",
              "      <td>0.095000</td>\n",
              "      <td>0.358000</td>\n",
              "      <td>0.547000</td>\n",
              "    </tr>\n",
              "    <tr>\n",
              "      <th>9</th>\n",
              "      <td>2976372</td>\n",
              "      <td>29800</td>\n",
              "      <td>99.9</td>\n",
              "      <td>0.00</td>\n",
              "      <td>-6.47</td>\n",
              "      <td>23.28</td>\n",
              "      <td>3500.0</td>\n",
              "      <td>98.6</td>\n",
              "      <td>195.7</td>\n",
              "      <td>17.55</td>\n",
              "      <td>2.30</td>\n",
              "      <td>80.15</td>\n",
              "      <td>4.000000</td>\n",
              "      <td>12.07</td>\n",
              "      <td>8.23</td>\n",
              "      <td>0.239000</td>\n",
              "      <td>0.343000</td>\n",
              "      <td>0.418000</td>\n",
              "    </tr>\n",
              "  </tbody>\n",
              "</table>\n",
              "</div>\n",
              "      <button class=\"colab-df-convert\" onclick=\"convertToInteractive('df-fd7fde44-e8ec-4aac-8ec8-d284d1a6f30a')\"\n",
              "              title=\"Convert this dataframe to an interactive table.\"\n",
              "              style=\"display:none;\">\n",
              "        \n",
              "  <svg xmlns=\"http://www.w3.org/2000/svg\" height=\"24px\"viewBox=\"0 0 24 24\"\n",
              "       width=\"24px\">\n",
              "    <path d=\"M0 0h24v24H0V0z\" fill=\"none\"/>\n",
              "    <path d=\"M18.56 5.44l.94 2.06.94-2.06 2.06-.94-2.06-.94-.94-2.06-.94 2.06-2.06.94zm-11 1L8.5 8.5l.94-2.06 2.06-.94-2.06-.94L8.5 2.5l-.94 2.06-2.06.94zm10 10l.94 2.06.94-2.06 2.06-.94-2.06-.94-.94-2.06-.94 2.06-2.06.94z\"/><path d=\"M17.41 7.96l-1.37-1.37c-.4-.4-.92-.59-1.43-.59-.52 0-1.04.2-1.43.59L10.3 9.45l-7.72 7.72c-.78.78-.78 2.05 0 2.83L4 21.41c.39.39.9.59 1.41.59.51 0 1.02-.2 1.41-.59l7.78-7.78 2.81-2.81c.8-.78.8-2.07 0-2.86zM5.41 20L4 18.59l7.72-7.72 1.47 1.35L5.41 20z\"/>\n",
              "  </svg>\n",
              "      </button>\n",
              "      \n",
              "  <style>\n",
              "    .colab-df-container {\n",
              "      display:flex;\n",
              "      flex-wrap:wrap;\n",
              "      gap: 12px;\n",
              "    }\n",
              "\n",
              "    .colab-df-convert {\n",
              "      background-color: #E8F0FE;\n",
              "      border: none;\n",
              "      border-radius: 50%;\n",
              "      cursor: pointer;\n",
              "      display: none;\n",
              "      fill: #1967D2;\n",
              "      height: 32px;\n",
              "      padding: 0 0 0 0;\n",
              "      width: 32px;\n",
              "    }\n",
              "\n",
              "    .colab-df-convert:hover {\n",
              "      background-color: #E2EBFA;\n",
              "      box-shadow: 0px 1px 2px rgba(60, 64, 67, 0.3), 0px 1px 3px 1px rgba(60, 64, 67, 0.15);\n",
              "      fill: #174EA6;\n",
              "    }\n",
              "\n",
              "    [theme=dark] .colab-df-convert {\n",
              "      background-color: #3B4455;\n",
              "      fill: #D2E3FC;\n",
              "    }\n",
              "\n",
              "    [theme=dark] .colab-df-convert:hover {\n",
              "      background-color: #434B5C;\n",
              "      box-shadow: 0px 1px 3px 1px rgba(0, 0, 0, 0.15);\n",
              "      filter: drop-shadow(0px 1px 2px rgba(0, 0, 0, 0.3));\n",
              "      fill: #FFFFFF;\n",
              "    }\n",
              "  </style>\n",
              "\n",
              "      <script>\n",
              "        const buttonEl =\n",
              "          document.querySelector('#df-fd7fde44-e8ec-4aac-8ec8-d284d1a6f30a button.colab-df-convert');\n",
              "        buttonEl.style.display =\n",
              "          google.colab.kernel.accessAllowed ? 'block' : 'none';\n",
              "\n",
              "        async function convertToInteractive(key) {\n",
              "          const element = document.querySelector('#df-fd7fde44-e8ec-4aac-8ec8-d284d1a6f30a');\n",
              "          const dataTable =\n",
              "            await google.colab.kernel.invokeFunction('convertToInteractive',\n",
              "                                                     [key], {});\n",
              "          if (!dataTable) return;\n",
              "\n",
              "          const docLinkHtml = 'Like what you see? Visit the ' +\n",
              "            '<a target=\"_blank\" href=https://colab.research.google.com/notebooks/data_table.ipynb>data table notebook</a>'\n",
              "            + ' to learn more about interactive tables.';\n",
              "          element.innerHTML = '';\n",
              "          dataTable['output_type'] = 'display_data';\n",
              "          await google.colab.output.renderOutput(dataTable, element);\n",
              "          const docLink = document.createElement('div');\n",
              "          docLink.innerHTML = docLinkHtml;\n",
              "          element.appendChild(docLink);\n",
              "        }\n",
              "      </script>\n",
              "    </div>\n",
              "  </div>\n",
              "  "
            ]
          },
          "metadata": {},
          "execution_count": 22
        }
      ],
      "source": [
        "#test \n",
        "df_copy_na.head(10)"
      ]
    },
    {
      "cell_type": "code",
      "execution_count": null,
      "metadata": {
        "id": "1EXsHcQ_Obue"
      },
      "outputs": [],
      "source": [
        ""
      ]
    },
    {
      "cell_type": "markdown",
      "metadata": {
        "id": "19I97F02Obue"
      },
      "source": [
        "## 4. <a name=\"4\">Features transformation</a>\n",
        "(<a href=\"#0\">Go to top</a>)"
      ]
    },
    {
      "cell_type": "markdown",
      "metadata": {
        "id": "gx7_fND-Obue"
      },
      "source": [
        "*What is the feature scaling technique that would use and why?* <br>\n",
        "*return to this section again and try another technique and see how that will impact your result*<br>\n",
        "for more details on different methods for scaling check these links\n",
        "- https://scikit-learn.org/stable/modules/preprocessing.html#preprocessing\n",
        "- https://scikit-learn.org/stable/modules/classes.html#module-sklearn.preprocessing\n",
        "- https://www.analyticsvidhya.com/blog/2020/07/types-of-feature-transformation-and-scaling/"
      ]
    },
    {
      "cell_type": "code",
      "execution_count": null,
      "metadata": {
        "id": "-qqOIjxlObuf"
      },
      "outputs": [],
      "source": [
        "from sklearn import preprocessing"
      ]
    },
    {
      "cell_type": "code",
      "execution_count": null,
      "metadata": {
        "colab": {
          "base_uri": "https://localhost:8080/",
          "height": 713
        },
        "id": "KIjgdDZ8Obuf",
        "outputId": "0ba72528-5d2c-4344-813f-1154c69671d7"
      },
      "outputs": [
        {
          "output_type": "execute_result",
          "data": {
            "text/plain": [
              "     Population  Area (sq. mi.)  Pop. Density (per sq. mi.)  \\\n",
              "0      0.019695        0.027583                   -0.199844   \n",
              "1     -0.213877       -0.318797                   -0.153603   \n",
              "2      0.035618        0.998421                   -0.220490   \n",
              "3     -0.243834       -0.334779                   -0.053514   \n",
              "4     -0.243720       -0.334629                   -0.137002   \n",
              "..          ...             ...                         ...   \n",
              "222   -0.223408       -0.331610                    0.024662   \n",
              "223   -0.242004       -0.185982                   -0.228217   \n",
              "224   -0.061923       -0.039330                   -0.204312   \n",
              "225   -0.146545        0.086427                   -0.219584   \n",
              "226   -0.140298       -0.116242                   -0.209926   \n",
              "\n",
              "     Coastline (coast/area ratio)  Net migration  \\\n",
              "0                       -0.293443   4.750696e+00   \n",
              "1                       -0.275974  -1.025201e+00   \n",
              "2                       -0.292889  -8.834605e-02   \n",
              "3                        0.514709  -4.281495e+00   \n",
              "4                       -0.293443   1.354081e+00   \n",
              "..                            ...            ...   \n",
              "222                     -0.293443   6.070728e-01   \n",
              "223                     -0.287620  -4.295642e-18   \n",
              "224                     -0.288452  -7.867312e-03   \n",
              "225                     -0.293443  -7.867312e-03   \n",
              "226                     -0.293443  -7.867312e-03   \n",
              "\n",
              "     Infant mortality (per 1000 births)  GDP ($ per capita)  Literacy (%)  \\\n",
              "0                          3.636688e+00       -8.985536e-01 -2.481004e+00   \n",
              "1                         -3.987536e-01       -5.187348e-01  1.939599e-01   \n",
              "2                         -1.284888e-01       -3.688063e-01 -6.800381e-01   \n",
              "3                         -7.479882e-01       -1.689017e-01  7.501404e-01   \n",
              "4                         -8.968049e-01        9.305737e-01  9.090492e-01   \n",
              "..                                  ...                 ...           ...   \n",
              "222                       -4.529206e-01       -8.885583e-01 -7.527430e-16   \n",
              "223                       -4.051365e-16        1.818122e-16 -7.527430e-16   \n",
              "224                        7.410341e-01       -8.885583e-01 -1.728836e+00   \n",
              "225                        1.504789e+00       -8.885583e-01 -1.185606e-01   \n",
              "226                        9.175045e-01       -7.786108e-01  4.164321e-01   \n",
              "\n",
              "     Phones (per 1000)  Arable (%)  Crops (%)  Other (%)   Climate  Birthrate  \\\n",
              "0        -1.032796e+00   -0.128695  -0.523020   0.374938 -1.717937   2.210300   \n",
              "1        -7.312001e-01    0.562986  -0.017364  -0.445827  1.298569  -0.632321   \n",
              "2        -7.005969e-01   -0.816517  -0.519408   0.928767 -1.717937  -0.449072   \n",
              "3         1.039557e-01   -0.293124   1.256409  -0.414019 -0.209684   0.031168   \n",
              "4         1.158212e+00   -0.893713  -0.549507   1.006727  1.298569  -1.210053   \n",
              "..                 ...         ...        ...        ...       ...        ...   \n",
              "222      -4.029923e-01    0.239532   1.734375  -1.091961  1.298569   0.862560   \n",
              "223       3.781713e-16   -1.063546  -0.549507   1.143937 -1.717937   0.000000   \n",
              "224      -8.819983e-01   -0.850483  -0.520612   0.956833 -1.717937   1.875396   \n",
              "225      -1.010620e+00   -0.518538  -0.545895   0.702371 -0.209684   1.704784   \n",
              "226      -9.281248e-01   -0.422814  -0.508573   0.605076 -0.209684   0.532169   \n",
              "\n",
              "        Deathrate   Agriculture      Industry   Service  \n",
              "0    2.249075e+00  1.619132e+00 -3.211494e-01 -1.158818  \n",
              "1   -8.149012e-01  5.734169e-01 -7.121448e-01  0.085790  \n",
              "2   -9.385141e-01 -3.521823e-01  2.385742e+00 -1.671672  \n",
              "3   -1.210057e+00  1.961110e-16  4.173963e-16  0.000000  \n",
              "4   -6.061780e-01  1.961110e-16  4.173963e-16  0.000000  \n",
              "..            ...           ...           ...       ...  \n",
              "222 -1.078338e+00 -4.299044e-01 -2.038365e-02  0.404760  \n",
              "223  7.199359e-16  1.961110e-16  4.173963e-16 -1.033732  \n",
              "224 -1.907579e-01 -1.119504e-01  1.423292e+00 -1.077512  \n",
              "225  2.165991e+00  4.886292e-01  5.480778e-02 -0.477098  \n",
              "226  2.553041e+00  1.989378e-01 -2.985919e-01  0.085790  \n",
              "\n",
              "[227 rows x 18 columns]"
            ],
            "text/html": [
              "\n",
              "  <div id=\"df-cc7751e2-8989-4d58-b79d-1831c63ab7d5\">\n",
              "    <div class=\"colab-df-container\">\n",
              "      <div>\n",
              "<style scoped>\n",
              "    .dataframe tbody tr th:only-of-type {\n",
              "        vertical-align: middle;\n",
              "    }\n",
              "\n",
              "    .dataframe tbody tr th {\n",
              "        vertical-align: top;\n",
              "    }\n",
              "\n",
              "    .dataframe thead th {\n",
              "        text-align: right;\n",
              "    }\n",
              "</style>\n",
              "<table border=\"1\" class=\"dataframe\">\n",
              "  <thead>\n",
              "    <tr style=\"text-align: right;\">\n",
              "      <th></th>\n",
              "      <th>Population</th>\n",
              "      <th>Area (sq. mi.)</th>\n",
              "      <th>Pop. Density (per sq. mi.)</th>\n",
              "      <th>Coastline (coast/area ratio)</th>\n",
              "      <th>Net migration</th>\n",
              "      <th>Infant mortality (per 1000 births)</th>\n",
              "      <th>GDP ($ per capita)</th>\n",
              "      <th>Literacy (%)</th>\n",
              "      <th>Phones (per 1000)</th>\n",
              "      <th>Arable (%)</th>\n",
              "      <th>Crops (%)</th>\n",
              "      <th>Other (%)</th>\n",
              "      <th>Climate</th>\n",
              "      <th>Birthrate</th>\n",
              "      <th>Deathrate</th>\n",
              "      <th>Agriculture</th>\n",
              "      <th>Industry</th>\n",
              "      <th>Service</th>\n",
              "    </tr>\n",
              "  </thead>\n",
              "  <tbody>\n",
              "    <tr>\n",
              "      <th>0</th>\n",
              "      <td>0.019695</td>\n",
              "      <td>0.027583</td>\n",
              "      <td>-0.199844</td>\n",
              "      <td>-0.293443</td>\n",
              "      <td>4.750696e+00</td>\n",
              "      <td>3.636688e+00</td>\n",
              "      <td>-8.985536e-01</td>\n",
              "      <td>-2.481004e+00</td>\n",
              "      <td>-1.032796e+00</td>\n",
              "      <td>-0.128695</td>\n",
              "      <td>-0.523020</td>\n",
              "      <td>0.374938</td>\n",
              "      <td>-1.717937</td>\n",
              "      <td>2.210300</td>\n",
              "      <td>2.249075e+00</td>\n",
              "      <td>1.619132e+00</td>\n",
              "      <td>-3.211494e-01</td>\n",
              "      <td>-1.158818</td>\n",
              "    </tr>\n",
              "    <tr>\n",
              "      <th>1</th>\n",
              "      <td>-0.213877</td>\n",
              "      <td>-0.318797</td>\n",
              "      <td>-0.153603</td>\n",
              "      <td>-0.275974</td>\n",
              "      <td>-1.025201e+00</td>\n",
              "      <td>-3.987536e-01</td>\n",
              "      <td>-5.187348e-01</td>\n",
              "      <td>1.939599e-01</td>\n",
              "      <td>-7.312001e-01</td>\n",
              "      <td>0.562986</td>\n",
              "      <td>-0.017364</td>\n",
              "      <td>-0.445827</td>\n",
              "      <td>1.298569</td>\n",
              "      <td>-0.632321</td>\n",
              "      <td>-8.149012e-01</td>\n",
              "      <td>5.734169e-01</td>\n",
              "      <td>-7.121448e-01</td>\n",
              "      <td>0.085790</td>\n",
              "    </tr>\n",
              "    <tr>\n",
              "      <th>2</th>\n",
              "      <td>0.035618</td>\n",
              "      <td>0.998421</td>\n",
              "      <td>-0.220490</td>\n",
              "      <td>-0.292889</td>\n",
              "      <td>-8.834605e-02</td>\n",
              "      <td>-1.284888e-01</td>\n",
              "      <td>-3.688063e-01</td>\n",
              "      <td>-6.800381e-01</td>\n",
              "      <td>-7.005969e-01</td>\n",
              "      <td>-0.816517</td>\n",
              "      <td>-0.519408</td>\n",
              "      <td>0.928767</td>\n",
              "      <td>-1.717937</td>\n",
              "      <td>-0.449072</td>\n",
              "      <td>-9.385141e-01</td>\n",
              "      <td>-3.521823e-01</td>\n",
              "      <td>2.385742e+00</td>\n",
              "      <td>-1.671672</td>\n",
              "    </tr>\n",
              "    <tr>\n",
              "      <th>3</th>\n",
              "      <td>-0.243834</td>\n",
              "      <td>-0.334779</td>\n",
              "      <td>-0.053514</td>\n",
              "      <td>0.514709</td>\n",
              "      <td>-4.281495e+00</td>\n",
              "      <td>-7.479882e-01</td>\n",
              "      <td>-1.689017e-01</td>\n",
              "      <td>7.501404e-01</td>\n",
              "      <td>1.039557e-01</td>\n",
              "      <td>-0.293124</td>\n",
              "      <td>1.256409</td>\n",
              "      <td>-0.414019</td>\n",
              "      <td>-0.209684</td>\n",
              "      <td>0.031168</td>\n",
              "      <td>-1.210057e+00</td>\n",
              "      <td>1.961110e-16</td>\n",
              "      <td>4.173963e-16</td>\n",
              "      <td>0.000000</td>\n",
              "    </tr>\n",
              "    <tr>\n",
              "      <th>4</th>\n",
              "      <td>-0.243720</td>\n",
              "      <td>-0.334629</td>\n",
              "      <td>-0.137002</td>\n",
              "      <td>-0.293443</td>\n",
              "      <td>1.354081e+00</td>\n",
              "      <td>-8.968049e-01</td>\n",
              "      <td>9.305737e-01</td>\n",
              "      <td>9.090492e-01</td>\n",
              "      <td>1.158212e+00</td>\n",
              "      <td>-0.893713</td>\n",
              "      <td>-0.549507</td>\n",
              "      <td>1.006727</td>\n",
              "      <td>1.298569</td>\n",
              "      <td>-1.210053</td>\n",
              "      <td>-6.061780e-01</td>\n",
              "      <td>1.961110e-16</td>\n",
              "      <td>4.173963e-16</td>\n",
              "      <td>0.000000</td>\n",
              "    </tr>\n",
              "    <tr>\n",
              "      <th>...</th>\n",
              "      <td>...</td>\n",
              "      <td>...</td>\n",
              "      <td>...</td>\n",
              "      <td>...</td>\n",
              "      <td>...</td>\n",
              "      <td>...</td>\n",
              "      <td>...</td>\n",
              "      <td>...</td>\n",
              "      <td>...</td>\n",
              "      <td>...</td>\n",
              "      <td>...</td>\n",
              "      <td>...</td>\n",
              "      <td>...</td>\n",
              "      <td>...</td>\n",
              "      <td>...</td>\n",
              "      <td>...</td>\n",
              "      <td>...</td>\n",
              "      <td>...</td>\n",
              "    </tr>\n",
              "    <tr>\n",
              "      <th>222</th>\n",
              "      <td>-0.223408</td>\n",
              "      <td>-0.331610</td>\n",
              "      <td>0.024662</td>\n",
              "      <td>-0.293443</td>\n",
              "      <td>6.070728e-01</td>\n",
              "      <td>-4.529206e-01</td>\n",
              "      <td>-8.885583e-01</td>\n",
              "      <td>-7.527430e-16</td>\n",
              "      <td>-4.029923e-01</td>\n",
              "      <td>0.239532</td>\n",
              "      <td>1.734375</td>\n",
              "      <td>-1.091961</td>\n",
              "      <td>1.298569</td>\n",
              "      <td>0.862560</td>\n",
              "      <td>-1.078338e+00</td>\n",
              "      <td>-4.299044e-01</td>\n",
              "      <td>-2.038365e-02</td>\n",
              "      <td>0.404760</td>\n",
              "    </tr>\n",
              "    <tr>\n",
              "      <th>223</th>\n",
              "      <td>-0.242004</td>\n",
              "      <td>-0.185982</td>\n",
              "      <td>-0.228217</td>\n",
              "      <td>-0.287620</td>\n",
              "      <td>-4.295642e-18</td>\n",
              "      <td>-4.051365e-16</td>\n",
              "      <td>1.818122e-16</td>\n",
              "      <td>-7.527430e-16</td>\n",
              "      <td>3.781713e-16</td>\n",
              "      <td>-1.063546</td>\n",
              "      <td>-0.549507</td>\n",
              "      <td>1.143937</td>\n",
              "      <td>-1.717937</td>\n",
              "      <td>0.000000</td>\n",
              "      <td>7.199359e-16</td>\n",
              "      <td>1.961110e-16</td>\n",
              "      <td>4.173963e-16</td>\n",
              "      <td>-1.033732</td>\n",
              "    </tr>\n",
              "    <tr>\n",
              "      <th>224</th>\n",
              "      <td>-0.061923</td>\n",
              "      <td>-0.039330</td>\n",
              "      <td>-0.204312</td>\n",
              "      <td>-0.288452</td>\n",
              "      <td>-7.867312e-03</td>\n",
              "      <td>7.410341e-01</td>\n",
              "      <td>-8.885583e-01</td>\n",
              "      <td>-1.728836e+00</td>\n",
              "      <td>-8.819983e-01</td>\n",
              "      <td>-0.850483</td>\n",
              "      <td>-0.520612</td>\n",
              "      <td>0.956833</td>\n",
              "      <td>-1.717937</td>\n",
              "      <td>1.875396</td>\n",
              "      <td>-1.907579e-01</td>\n",
              "      <td>-1.119504e-01</td>\n",
              "      <td>1.423292e+00</td>\n",
              "      <td>-1.077512</td>\n",
              "    </tr>\n",
              "    <tr>\n",
              "      <th>225</th>\n",
              "      <td>-0.146545</td>\n",
              "      <td>0.086427</td>\n",
              "      <td>-0.219584</td>\n",
              "      <td>-0.293443</td>\n",
              "      <td>-7.867312e-03</td>\n",
              "      <td>1.504789e+00</td>\n",
              "      <td>-8.885583e-01</td>\n",
              "      <td>-1.185606e-01</td>\n",
              "      <td>-1.010620e+00</td>\n",
              "      <td>-0.518538</td>\n",
              "      <td>-0.545895</td>\n",
              "      <td>0.702371</td>\n",
              "      <td>-0.209684</td>\n",
              "      <td>1.704784</td>\n",
              "      <td>2.165991e+00</td>\n",
              "      <td>4.886292e-01</td>\n",
              "      <td>5.480778e-02</td>\n",
              "      <td>-0.477098</td>\n",
              "    </tr>\n",
              "    <tr>\n",
              "      <th>226</th>\n",
              "      <td>-0.140298</td>\n",
              "      <td>-0.116242</td>\n",
              "      <td>-0.209926</td>\n",
              "      <td>-0.293443</td>\n",
              "      <td>-7.867312e-03</td>\n",
              "      <td>9.175045e-01</td>\n",
              "      <td>-7.786108e-01</td>\n",
              "      <td>4.164321e-01</td>\n",
              "      <td>-9.281248e-01</td>\n",
              "      <td>-0.422814</td>\n",
              "      <td>-0.508573</td>\n",
              "      <td>0.605076</td>\n",
              "      <td>-0.209684</td>\n",
              "      <td>0.532169</td>\n",
              "      <td>2.553041e+00</td>\n",
              "      <td>1.989378e-01</td>\n",
              "      <td>-2.985919e-01</td>\n",
              "      <td>0.085790</td>\n",
              "    </tr>\n",
              "  </tbody>\n",
              "</table>\n",
              "<p>227 rows × 18 columns</p>\n",
              "</div>\n",
              "      <button class=\"colab-df-convert\" onclick=\"convertToInteractive('df-cc7751e2-8989-4d58-b79d-1831c63ab7d5')\"\n",
              "              title=\"Convert this dataframe to an interactive table.\"\n",
              "              style=\"display:none;\">\n",
              "        \n",
              "  <svg xmlns=\"http://www.w3.org/2000/svg\" height=\"24px\"viewBox=\"0 0 24 24\"\n",
              "       width=\"24px\">\n",
              "    <path d=\"M0 0h24v24H0V0z\" fill=\"none\"/>\n",
              "    <path d=\"M18.56 5.44l.94 2.06.94-2.06 2.06-.94-2.06-.94-.94-2.06-.94 2.06-2.06.94zm-11 1L8.5 8.5l.94-2.06 2.06-.94-2.06-.94L8.5 2.5l-.94 2.06-2.06.94zm10 10l.94 2.06.94-2.06 2.06-.94-2.06-.94-.94-2.06-.94 2.06-2.06.94z\"/><path d=\"M17.41 7.96l-1.37-1.37c-.4-.4-.92-.59-1.43-.59-.52 0-1.04.2-1.43.59L10.3 9.45l-7.72 7.72c-.78.78-.78 2.05 0 2.83L4 21.41c.39.39.9.59 1.41.59.51 0 1.02-.2 1.41-.59l7.78-7.78 2.81-2.81c.8-.78.8-2.07 0-2.86zM5.41 20L4 18.59l7.72-7.72 1.47 1.35L5.41 20z\"/>\n",
              "  </svg>\n",
              "      </button>\n",
              "      \n",
              "  <style>\n",
              "    .colab-df-container {\n",
              "      display:flex;\n",
              "      flex-wrap:wrap;\n",
              "      gap: 12px;\n",
              "    }\n",
              "\n",
              "    .colab-df-convert {\n",
              "      background-color: #E8F0FE;\n",
              "      border: none;\n",
              "      border-radius: 50%;\n",
              "      cursor: pointer;\n",
              "      display: none;\n",
              "      fill: #1967D2;\n",
              "      height: 32px;\n",
              "      padding: 0 0 0 0;\n",
              "      width: 32px;\n",
              "    }\n",
              "\n",
              "    .colab-df-convert:hover {\n",
              "      background-color: #E2EBFA;\n",
              "      box-shadow: 0px 1px 2px rgba(60, 64, 67, 0.3), 0px 1px 3px 1px rgba(60, 64, 67, 0.15);\n",
              "      fill: #174EA6;\n",
              "    }\n",
              "\n",
              "    [theme=dark] .colab-df-convert {\n",
              "      background-color: #3B4455;\n",
              "      fill: #D2E3FC;\n",
              "    }\n",
              "\n",
              "    [theme=dark] .colab-df-convert:hover {\n",
              "      background-color: #434B5C;\n",
              "      box-shadow: 0px 1px 3px 1px rgba(0, 0, 0, 0.15);\n",
              "      filter: drop-shadow(0px 1px 2px rgba(0, 0, 0, 0.3));\n",
              "      fill: #FFFFFF;\n",
              "    }\n",
              "  </style>\n",
              "\n",
              "      <script>\n",
              "        const buttonEl =\n",
              "          document.querySelector('#df-cc7751e2-8989-4d58-b79d-1831c63ab7d5 button.colab-df-convert');\n",
              "        buttonEl.style.display =\n",
              "          google.colab.kernel.accessAllowed ? 'block' : 'none';\n",
              "\n",
              "        async function convertToInteractive(key) {\n",
              "          const element = document.querySelector('#df-cc7751e2-8989-4d58-b79d-1831c63ab7d5');\n",
              "          const dataTable =\n",
              "            await google.colab.kernel.invokeFunction('convertToInteractive',\n",
              "                                                     [key], {});\n",
              "          if (!dataTable) return;\n",
              "\n",
              "          const docLinkHtml = 'Like what you see? Visit the ' +\n",
              "            '<a target=\"_blank\" href=https://colab.research.google.com/notebooks/data_table.ipynb>data table notebook</a>'\n",
              "            + ' to learn more about interactive tables.';\n",
              "          element.innerHTML = '';\n",
              "          dataTable['output_type'] = 'display_data';\n",
              "          await google.colab.output.renderOutput(dataTable, element);\n",
              "          const docLink = document.createElement('div');\n",
              "          docLink.innerHTML = docLinkHtml;\n",
              "          element.appendChild(docLink);\n",
              "        }\n",
              "      </script>\n",
              "    </div>\n",
              "  </div>\n",
              "  "
            ]
          },
          "metadata": {},
          "execution_count": 24
        }
      ],
      "source": [
        "from sklearn.preprocessing import StandardScaler\n",
        "# feature Scalling using Standard Scaler\n",
        "scaler = StandardScaler()\n",
        "df_copy_na[df_copy_na.columns] = scaler.fit_transform(df_copy_na.values)\n",
        "df_copy_na\n",
        "# normalizer = preprocessing.Normalizer().fit(X) \n"
      ]
    },
    {
      "cell_type": "code",
      "source": [
        "for col in df_copy_na.columns: # histogram for each column \n",
        "  df_copy_na[col].plot.hist(alpha=0.5,  grid=True, legend=None)  \n",
        "  plt.title(\"Histogram  \"+ col)\n",
        "  plt.show()"
      ],
      "metadata": {
        "colab": {
          "base_uri": "https://localhost:8080/",
          "height": 1000
        },
        "id": "3RTS4hURxUG_",
        "outputId": "da6f9587-e84f-4ffc-eae9-347e48f98a6e"
      },
      "execution_count": null,
      "outputs": [
        {
          "output_type": "display_data",
          "data": {
            "text/plain": [
              "<Figure size 432x288 with 1 Axes>"
            ],
            "image/png": "[encoded data removed]"
          },
          "metadata": {
            "needs_background": "light"
          }
        },
        {
          "output_type": "display_data",
          "data": {
            "text/plain": [
              "<Figure size 432x288 with 1 Axes>"
            ],
            "image/png": "[encoded data removed]"
          },
          "metadata": {
            "needs_background": "light"
          }
        },
        {
          "output_type": "display_data",
          "data": {
            "text/plain": [
              "<Figure size 432x288 with 1 Axes>"
            ],
            "image/png": "[encoded data removed]"
          },
          "metadata": {
            "needs_background": "light"
          }
        },
        {
          "output_type": "display_data",
          "data": {
            "text/plain": [
              "<Figure size 432x288 with 1 Axes>"
            ],
            "image/png": "[encoded data removed]"
          },
          "metadata": {
            "needs_background": "light"
          }
        },
        {
          "output_type": "display_data",
          "data": {
            "text/plain": [
              "<Figure size 432x288 with 1 Axes>"
            ],
            "image/png": "[encoded data removed]"
          },
          "metadata": {
            "needs_background": "light"
          }
        },
        {
          "output_type": "display_data",
          "data": {
            "text/plain": [
              "<Figure size 432x288 with 1 Axes>"
            ],
            "image/png": "[encoded data removed]"
          },
          "metadata": {
            "needs_background": "light"
          }
        },
        {
          "output_type": "display_data",
          "data": {
            "text/plain": [
              "<Figure size 432x288 with 1 Axes>"
            ],
            "image/png": "[encoded data removed]"
          },
          "metadata": {
            "needs_background": "light"
          }
        },
        {
          "output_type": "display_data",
          "data": {
            "text/plain": [
              "<Figure size 432x288 with 1 Axes>"
            ],
            "image/png": "[encoded data removed]"
          },
          "metadata": {
            "needs_background": "light"
          }
        },
        {
          "output_type": "display_data",
          "data": {
            "text/plain": [
              "<Figure size 432x288 with 1 Axes>"
            ],
            "image/png": "[encoded data removed]"
          },
          "metadata": {
            "needs_background": "light"
          }
        },
        {
          "output_type": "display_data",
          "data": {
            "text/plain": [
              "<Figure size 432x288 with 1 Axes>"
            ],
            "image/png": "[encoded data removed]"
          },
          "metadata": {
            "needs_background": "light"
          }
        },
        {
          "output_type": "display_data",
          "data": {
            "text/plain": [
              "<Figure size 432x288 with 1 Axes>"
            ],
            "image/png": "[encoded data removed]"
          },
          "metadata": {
            "needs_background": "light"
          }
        },
        {
          "output_type": "display_data",
          "data": {
            "text/plain": [
              "<Figure size 432x288 with 1 Axes>"
            ],
            "image/png": "[encoded data removed]"
          },
          "metadata": {
            "needs_background": "light"
          }
        },
        {
          "output_type": "display_data",
          "data": {
            "text/plain": [
              "<Figure size 432x288 with 1 Axes>"
            ],
            "image/png": "[encoded data removed]"
          },
          "metadata": {
            "needs_background": "light"
          }
        },
        {
          "output_type": "display_data",
          "data": {
            "text/plain": [
              "<Figure size 432x288 with 1 Axes>"
            ],
            "image/png": "[encoded data removed]"
          },
          "metadata": {
            "needs_background": "light"
          }
        },
        {
          "output_type": "display_data",
          "data": {
            "text/plain": [
              "<Figure size 432x288 with 1 Axes>"
            ],
            "image/png": "[encoded data removed]"
          },
          "metadata": {
            "needs_background": "light"
          }
        },
        {
          "output_type": "display_data",
          "data": {
            "text/plain": [
              "<Figure size 432x288 with 1 Axes>"
            ],
            "image/png": "[encoded data removed]"
          },
          "metadata": {
            "needs_background": "light"
          }
        },
        {
          "output_type": "display_data",
          "data": {
            "text/plain": [
              "<Figure size 432x288 with 1 Axes>"
            ],
            "image/png": "[encoded data removed]"
          },
          "metadata": {
            "needs_background": "light"
          }
        },
        {
          "output_type": "display_data",
          "data": {
            "text/plain": [
              "<Figure size 432x288 with 1 Axes>"
            ],
            "image/png": "[encoded data removed]"
          },
          "metadata": {
            "needs_background": "light"
          }
        }
      ]
    },
    {
      "cell_type": "code",
      "source": [
        "for col in df_copy_na.columns:\n",
        "  df_copy_na[col].plot(kind='box',  grid=True)  \n",
        "  plt.title(\"box pot  \"+ col)\n",
        "  plt.show()"
      ],
      "metadata": {
        "colab": {
          "base_uri": "https://localhost:8080/",
          "height": 1000
        },
        "id": "1_a8FCs_zrJx",
        "outputId": "21d2f59f-964f-4fe1-c1ef-e9e13e1880a6"
      },
      "execution_count": null,
      "outputs": [
        {
          "output_type": "display_data",
          "data": {
            "text/plain": [
              "<Figure size 432x288 with 1 Axes>"
            ],
            "image/png": "[encoded data removed]"
          },
          "metadata": {
            "needs_background": "light"
          }
        },
        {
          "output_type": "display_data",
          "data": {
            "text/plain": [
              "<Figure size 432x288 with 1 Axes>"
            ],
            "image/png": "[encoded data removed]"
          },
          "metadata": {
            "needs_background": "light"
          }
        },
        {
          "output_type": "display_data",
          "data": {
            "text/plain": [
              "<Figure size 432x288 with 1 Axes>"
            ],
            "image/png": "[encoded data removed]"
          },
          "metadata": {
            "needs_background": "light"
          }
        },
        {
          "output_type": "display_data",
          "data": {
            "text/plain": [
              "<Figure size 432x288 with 1 Axes>"
            ],
            "image/png": "[encoded data removed]"
          },
          "metadata": {
            "needs_background": "light"
          }
        },
        {
          "output_type": "display_data",
          "data": {
            "text/plain": [
              "<Figure size 432x288 with 1 Axes>"
            ],
            "image/png": "[encoded data removed]"
          },
          "metadata": {
            "needs_background": "light"
          }
        },
        {
          "output_type": "display_data",
          "data": {
            "text/plain": [
              "<Figure size 432x288 with 1 Axes>"
            ],
            "image/png": "[encoded data removed]"
          },
          "metadata": {
            "needs_background": "light"
          }
        },
        {
          "output_type": "display_data",
          "data": {
            "text/plain": [
              "<Figure size 432x288 with 1 Axes>"
            ],
            "image/png": "[encoded data removed]"
          },
          "metadata": {
            "needs_background": "light"
          }
        },
        {
          "output_type": "display_data",
          "data": {
            "text/plain": [
              "<Figure size 432x288 with 1 Axes>"
            ],
            "image/png": "[encoded data removed]"
          },
          "metadata": {
            "needs_background": "light"
          }
        },
        {
          "output_type": "display_data",
          "data": {
            "text/plain": [
              "<Figure size 432x288 with 1 Axes>"
            ],
            "image/png": "[encoded data removed]"
          },
          "metadata": {
            "needs_background": "light"
          }
        },
        {
          "output_type": "display_data",
          "data": {
            "text/plain": [
              "<Figure size 432x288 with 1 Axes>"
            ],
            "image/png": "[encoded data removed]"
          },
          "metadata": {
            "needs_background": "light"
          }
        },
        {
          "output_type": "display_data",
          "data": {
            "text/plain": [
              "<Figure size 432x288 with 1 Axes>"
            ],
            "image/png": "[encoded data removed]"
          },
          "metadata": {
            "needs_background": "light"
          }
        },
        {
          "output_type": "display_data",
          "data": {
            "text/plain": [
              "<Figure size 432x288 with 1 Axes>"
            ],
            "image/png": "[encoded data removed]"
          },
          "metadata": {
            "needs_background": "light"
          }
        },
        {
          "output_type": "display_data",
          "data": {
            "text/plain": [
              "<Figure size 432x288 with 1 Axes>"
            ],
            "image/png": "[encoded data removed]"
          },
          "metadata": {
            "needs_background": "light"
          }
        },
        {
          "output_type": "display_data",
          "data": {
            "text/plain": [
              "<Figure size 432x288 with 1 Axes>"
            ],
            "image/png": "[encoded data removed]"
          },
          "metadata": {
            "needs_background": "light"
          }
        },
        {
          "output_type": "display_data",
          "data": {
            "text/plain": [
              "<Figure size 432x288 with 1 Axes>"
            ],
            "image/png": "[encoded data removed]"
          },
          "metadata": {
            "needs_background": "light"
          }
        },
        {
          "output_type": "display_data",
          "data": {
            "text/plain": [
              "<Figure size 432x288 with 1 Axes>"
            ],
            "image/png": "[encoded data removed]"
          },
          "metadata": {
            "needs_background": "light"
          }
        },
        {
          "output_type": "display_data",
          "data": {
            "text/plain": [
              "<Figure size 432x288 with 1 Axes>"
            ],
            "image/png": "[encoded data removed]"
          },
          "metadata": {
            "needs_background": "light"
          }
        },
        {
          "output_type": "display_data",
          "data": {
            "text/plain": [
              "<Figure size 432x288 with 1 Axes>"
            ],
            "image/png": "[encoded data removed]"
          },
          "metadata": {
            "needs_background": "light"
          }
        }
      ]
    },
    {
      "cell_type": "markdown",
      "metadata": {
        "id": "4zHf5fziObuf"
      },
      "source": [
        "## 5. <a name=\"5\">Training and hyperparamter tuning</a>\n",
        "(<a href=\"#0\">Go to top</a>)\n"
      ]
    },
    {
      "cell_type": "markdown",
      "metadata": {
        "id": "1hQ1CtGrObuf"
      },
      "source": [
        "Before we start the training process we need to specify 3 paramters:<br>\n",
        "1- Linkage criteria : The linkage criterion determines the distance between two clusters\n",
        "    - Complete-Linkage Clustering\n",
        "    - Single-Linkage Clustering\n",
        "    - Average-Linkage Clustering\n",
        "    - Centroid Linkage Clustering\n",
        "2- Distance function:\n",
        "    - Euclidean Distance \n",
        "    - Manhattan Distance \n",
        "    - Mahalanobis distance \n",
        "3- Number of clusters\n"
      ]
    },
    {
      "cell_type": "markdown",
      "metadata": {
        "id": "Uw1k_ZLZObug"
      },
      "source": [
        "### *Number of clusters*\n",
        "Use Dendograms to specify the optimum number of clusters\n",
        "- Compare how changing linkage criteria or distance function would affect the optimum number of clusters\n",
        "- you can use silhouette_score or any other evalution method to help you determine the optimum number of clusters\n",
        "https://scikit-learn.org/stable/modules/generated/sklearn.metrics.silhouette_score.html"
      ]
    },
    {
      "cell_type": "code",
      "execution_count": null,
      "metadata": {
        "colab": {
          "base_uri": "https://localhost:8080/",
          "height": 444
        },
        "id": "9hmtebFPObug",
        "outputId": "d63b71ef-9a58-47ce-a7ec-b59082c080c5"
      },
      "outputs": [
        {
          "output_type": "display_data",
          "data": {
            "text/plain": [
              "<Figure size 720x504 with 1 Axes>"
            ],
            "image/png": "[encoded data removed]"
          },
          "metadata": {
            "needs_background": "light"
          }
        }
      ],
      "source": [
        "import scipy.cluster.hierarchy as shc\n",
        "plt.figure(figsize=(10, 7))\n",
        "plt.title(\"Counters Dendograms\")\n",
        "dend = shc.dendrogram(shc.linkage(y= df_copy_na , method='single',metric='euclidean'),orientation='right') #fill y with your dataframe\n",
        "                                                                                      #and method with linkage criteria\n",
        "                                                                                      #and metric with distance function"
      ]
    },
    {
      "cell_type": "code",
      "source": [
        "# using 'single' method \n",
        "plt.figure(figsize=(15, 7))\n",
        "plt.title(\"Counters Dendograms\")\n",
        "dend = shc.dendrogram(shc.linkage(y= df_copy_na , method='single',metric='euclidean'),orientation='top') #fill y with your dataframe\n",
        "    "
      ],
      "metadata": {
        "colab": {
          "base_uri": "https://localhost:8080/",
          "height": 444
        },
        "id": "IhqfT05Wt4qD",
        "outputId": "e3f6b253-ff5c-4058-d466-2517f2eda17e"
      },
      "execution_count": null,
      "outputs": [
        {
          "output_type": "display_data",
          "data": {
            "text/plain": [
              "<Figure size 1080x504 with 1 Axes>"
            ],
            "image/png": "[encoded data removed]"
          },
          "metadata": {
            "needs_background": "light"
          }
        }
      ]
    },
    {
      "cell_type": "code",
      "source": [
        "# using 'centroid' method  to see it's affect the optimum number of clusters\n",
        "plt.figure(figsize=(15, 7))\n",
        "plt.title(\"Counters Dendograms\")\n",
        "dend = shc.dendrogram(shc.linkage(y= df_copy_na , method='centroid',metric='euclidean'),orientation='top') #fill y with your dataframe\n",
        "                                                                                      #and method with linkage criteria"
      ],
      "metadata": {
        "colab": {
          "base_uri": "https://localhost:8080/",
          "height": 444
        },
        "id": "G84Plr45s_yN",
        "outputId": "04f8390d-88ee-46c4-b5c5-96129bd0acb9"
      },
      "execution_count": null,
      "outputs": [
        {
          "output_type": "display_data",
          "data": {
            "text/plain": [
              "<Figure size 1080x504 with 1 Axes>"
            ],
            "image/png": "[encoded data removed]"
          },
          "metadata": {
            "needs_background": "light"
          }
        }
      ]
    },
    {
      "cell_type": "code",
      "execution_count": null,
      "metadata": {
        "colab": {
          "base_uri": "https://localhost:8080/",
          "height": 404
        },
        "id": "vNFIvK9lObug",
        "outputId": "e6b414cd-3b0d-4ddf-be3d-70604b036f28"
      },
      "outputs": [
        {
          "output_type": "stream",
          "name": "stdout",
          "text": [
            "[3 0 0 0 2 3 0 0 0 0 2 1 2 3 0 0 3 2 0 2 0 3 2 3 0 0 3 1 2 0 0 3 3 3 3 3 1\n",
            " 0 2 3 3 0 1 0 3 3 3 0 0 3 0 0 2 0 2 3 0 0 3 0 0 0 3 3 0 3 2 0 2 2 0 0 3 3\n",
            " 0 0 2 3 2 2 0 0 0 0 3 2 3 3 0 3 3 2 0 2 1 0 0 0 2 2 2 2 0 2 2 0 0 3 0 0 2\n",
            " 0 0 3 0 0 3 3 0 2 0 2 2 0 3 3 0 0 3 2 0 0 3 0 3 0 0 0 2 0 0 3 3 3 0 3 2 0\n",
            " 0 2 3 3 3 0 2 0 3 0 0 3 0 0 0 0 2 2 0 0 0 1 3 0 0 0 0 0 0 2 0 0 3 0 0 3 2\n",
            " 0 2 0 3 3 2 0 3 0 3 2 2 3 2 3 3 0 3 0 0 0 0 3 0 0 3 0 0 2 1 0 3 3 0 0 0 0\n",
            " 0 0 3 3 3]\n"
          ]
        },
        {
          "output_type": "execute_result",
          "data": {
            "text/plain": [
              "<matplotlib.collections.PathCollection at 0x7f046493dc50>"
            ]
          },
          "metadata": {},
          "execution_count": 46
        },
        {
          "output_type": "display_data",
          "data": {
            "text/plain": [
              "<Figure size 432x288 with 1 Axes>"
            ],
            "image/png": "[encoded data removed]"
          },
          "metadata": {
            "needs_background": "light"
          }
        }
      ],
      "source": [
        "#training\n",
        "from sklearn.cluster import AgglomerativeClustering\n",
        "clustering = AgglomerativeClustering(n_clusters=4).fit(df_copy_na)\n",
        "labels = clustering.labels_\n",
        "print(labels)\n",
        "plt.scatter(df_copy_na['Population'], df_copy_na['Area (sq. mi.)'],c=labels)"
      ]
    },
    {
      "cell_type": "code",
      "source": [
        "from sklearn.cluster import AgglomerativeClustering\n",
        "clustering = AgglomerativeClustering(n_clusters=6).fit(df_copy_na)\n",
        "labels = clustering.labels_\n",
        "print(labels)\n",
        "plt.scatter(df_copy_na['Population'], df_copy_na['Area (sq. mi.)'],c=labels)"
      ],
      "metadata": {
        "colab": {
          "base_uri": "https://localhost:8080/",
          "height": 404
        },
        "id": "8IbZK_aV9ESA",
        "outputId": "d0499104-2260-44bb-c86f-27afebbee498"
      },
      "execution_count": null,
      "outputs": [
        {
          "output_type": "stream",
          "name": "stdout",
          "text": [
            "[3 0 4 0 2 3 4 4 4 0 2 1 2 3 4 4 3 2 0 2 4 3 2 3 4 0 3 1 2 4 0 3 3 3 3 3 1\n",
            " 4 2 3 3 4 1 4 3 3 3 0 4 3 0 0 2 0 2 3 0 0 3 4 4 0 3 3 0 3 2 4 2 2 4 4 3 3\n",
            " 0 0 2 3 2 2 4 0 4 0 3 2 3 3 4 3 3 2 0 2 1 4 4 4 2 2 2 2 0 2 2 4 0 3 0 0 2\n",
            " 4 4 3 0 0 3 3 4 2 0 2 5 0 3 3 0 4 3 2 0 4 3 0 3 4 0 0 5 4 4 3 3 3 4 3 2 4\n",
            " 4 2 3 3 3 4 2 4 3 4 4 3 4 4 0 0 2 2 4 4 0 1 3 4 4 0 4 0 0 2 0 4 3 0 0 3 2\n",
            " 0 2 4 3 3 2 0 3 4 3 2 2 3 2 3 3 4 3 0 0 0 0 3 4 4 3 0 4 2 1 4 3 3 4 4 4 0\n",
            " 0 4 3 3 3]\n"
          ]
        },
        {
          "output_type": "execute_result",
          "data": {
            "text/plain": [
              "<matplotlib.collections.PathCollection at 0x7f0464948810>"
            ]
          },
          "metadata": {},
          "execution_count": 45
        },
        {
          "output_type": "display_data",
          "data": {
            "text/plain": [
              "<Figure size 432x288 with 1 Axes>"
            ],
            "image/png": "[encoded data removed]"
          },
          "metadata": {
            "needs_background": "light"
          }
        }
      ]
    },
    {
      "cell_type": "markdown",
      "metadata": {
        "id": "qp4g0L3fObug"
      },
      "source": [
        "## 6. <a name=\"6\">improvement ideas</a>\n",
        "(<a href=\"#0\">Go to top</a>)"
      ]
    },
    {
      "cell_type": "markdown",
      "metadata": {
        "id": "6s2N7zb-Obug"
      },
      "source": [
        "- Try to use PCA to reduce the number of features and compare how this will affect the clustring process\n",
        "- Try to run your code again but with different tranformation technique\n",
        "- Implement gap statistics method and use it as evaluation metric and compare the result with what you did before https://www.datanovia.com/en/lessons/determining-the-optimal-number-of-clusters-3-must-know-methods/#gap-statistic-method "
      ]
    }
  ],
  "metadata": {
    "kernelspec": {
      "display_name": "Python 3",
      "language": "python",
      "name": "python3"
    },
    "language_info": {
      "codemirror_mode": {
        "name": "ipython",
        "version": 3
      },
      "file_extension": ".py",
      "mimetype": "text/x-python",
      "name": "python",
      "nbconvert_exporter": "python",
      "pygments_lexer": "ipython3",
      "version": "3.7.6"
    },
    "colab": {
      "name": "Hierarchical Clustering.ipynb",
      "provenance": [],
      "include_colab_link": true
    }
  },
  "nbformat": 4,
  "nbformat_minor": 0
}